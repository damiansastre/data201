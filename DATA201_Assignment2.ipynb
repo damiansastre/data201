{
 "cells": [
  {
   "cell_type": "markdown",
   "metadata": {},
   "source": [
    "# Data 201\n",
    "\n",
    "Data Wrangling, S2 2021\n",
    "\n",
    "## Assignement 2\n",
    "\n",
    "### 20% of final grade\n",
    "\n",
    "## Due date: 2pm Tuesday 12 October 2021\n",
    "\n",
    "The assignment must be submitted on the DATA 201 and 422 Learn page and should be **your own pair** (or group of three if we are odd) **work**. Avoid plagiarism: if you are not sure what may constitute code plagiarism, read this http://web.science.mq.edu.au/~mtaylor/ponline/index.php?id=source-code-plagiarism. Remember, when in doubt **declare your sources**.  \n",
    "As a general rule, late submission are **highly** unsuggested. The pace of the course is very quick, and you don't want to be working on this too long, as you would have less time for other assignments. I suggest you to submit what you have ready by the time the assignment is due, even if it is not everything we required. For any particular problem, please contact [Thomas Li](thomas.li@canterbury.ac.nz) or [Giulio Dalla Riva](giulio.dallariva@canterbury.ac.nz) or TAs.\n",
    "\n",
    "\n",
    "## Instruction\n",
    "\n",
    "### Total: 20 marks.\n",
    "\n",
    "For this assignment you will work with data from the web. Your goal is to scrape it or request it, wrangle it, produce some plotting, in order to demonstrate that you are able to use the functions, plotting, and markdown format we have been learning.  \n",
    "You shall hand in your work as a jupyter R notebook comprehending the code, the plots and, **very important**, enough comments and explanations for us to understand what you did, how you did it, and why you did it. Remember: better comments, means better marks.  \n",
    "You can either modify this notebook or write a new one from scratch."
   ]
  },
  {
   "cell_type": "markdown",
   "metadata": {},
   "source": [
    "Do use the tidyverse syntax that's introduced in class and labs. If in doubt, refresh the lab material 1 to 7."
   ]
  },
  {
   "cell_type": "markdown",
   "metadata": {},
   "source": [
    "### Task (a): scrape it (5 marks)\n",
    "\n",
    "Identify a website page showing information you find interesting. The information should be presented across more than one page. Select one of this pages (the rest is for later) and using `rvest` (and the suit of `tidyverse` libraries we used so far, plus any other one you may need) get the html into R."
   ]
  },
  {
   "cell_type": "markdown",
   "metadata": {},
   "source": [
    "tidyverse: collection of R packages\n",
    "rvest: read webpage and expore content."
   ]
  },
  {
   "cell_type": "code",
   "execution_count": 22,
   "metadata": {},
   "outputs": [],
   "source": [
    "library(tidyverse)\n",
    "library(rvest)\n",
    "\n"
   ]
  },
  {
   "cell_type": "code",
   "execution_count": 23,
   "metadata": {},
   "outputs": [],
   "source": [
    "#url_adreess_math001 <- \"https://www.canterbury.ac.nz/courseinfo/GetCourseDetails.aspx?course=MATH101&occurrence=22S1(C)&year=2022\"\n",
    "\n",
    "#use readed course url to get all details we want\n",
    "get_text <- function(url_readed,selector){\n",
    "        text_need <- url_readed %>%\n",
    "                        html_elements(selector) %>%\n",
    "                        html_text()\n",
    "        return(text_need)\n",
    "    }\n",
    "get_detail <- function(web_url){\n",
    "    \n",
    "    url_readed <- web_url %>% read_html()\n",
    "    \n",
    "    node_selector <- \"#ctl00_ContentPlaceHolder1_CourseCodeLabel\"\n",
    "    course_code <- get_text(url_readed, node_selector)\n",
    "    if (identical(course_code, character(0))){\n",
    "        course_code = 'NULL'\n",
    "    }\n",
    "\n",
    "    node_selector <- \"#ctl00_ContentPlaceHolder1_CourseOccurrenceTitleLabel\"\n",
    "    course_name <- get_text(url_readed, node_selector)\n",
    "    if (identical(course_name, character(0))){\n",
    "        course_name = 'NULL'\n",
    "    }\n",
    "\n",
    "    node_selector <- \"#ctl00_ContentPlaceHolder1_DomesticFeeLabel\"\n",
    "    Domestic_fee <- get_text(url_readed, node_selector)\n",
    "    if (identical(Domestic_fee, character(0))){\n",
    "        Domestic_fee = 'NULL'\n",
    "    }\n",
    "\n",
    "    node_selector <- \"#ctl00_ContentPlaceHolder1_InternationalFeeLabel\"\n",
    "    International_fee <- get_text(url_readed, node_selector)\n",
    "    if (identical(International_fee, character(0))){\n",
    "        International_fee = 'NULL'\n",
    "    }\n",
    "\n",
    "    node_selector <- \"#ctl00_ContentPlaceHolder1_StartDateLabel\"\n",
    "    Start_date <- get_text(url_readed, node_selector)\n",
    "    if (identical(Start_date, character(0))){\n",
    "        Start_date = 'NULL'\n",
    "    }\n",
    "\n",
    "    node_selector <- \"#ctl00_ContentPlaceHolder1_EndDateLabel\"\n",
    "    End_date <- get_text(url_readed, node_selector)\n",
    "    if (identical(End_date, character(0))){\n",
    "        End_date = 'NULL'\n",
    "    }\n",
    "\n",
    "    node_selector <- \"#ctl00_ContentPlaceHolder1_PointsAndEftsLabel\"\n",
    "    Points <- get_text(url_readed, node_selector)\n",
    "    if (identical(Points, character(0))){\n",
    "        Points = 'NULL'\n",
    "    }\n",
    "    return(list(course_code, course_name, Domestic_fee, International_fee, Start_date, End_date, Points))\n",
    "}\n"
   ]
  },
  {
   "cell_type": "code",
   "execution_count": 24,
   "metadata": {},
   "outputs": [],
   "source": [
    "#url_adreess_French <- \"https://www.canterbury.ac.nz/courseinfo/GetCourses.aspx?subjectnames=French&viewby=subject&year2021\"             \n",
    "# library(skimr)\n",
    "# table_a_tage_without_na %>% skim()\n",
    "# table_a_tage_without_na %>% mutate(new_col = get_detail(href))  why this can not work??????????            \n",
    "                                 \n",
    "one_subject_all_courses_detetal <- function(subject_url){\n",
    "    read_url_subjects <- subject_url %>%\n",
    "                            read_html()\n",
    "    all_links <- read_url_subjects %>% \n",
    "                    html_element(\"#GetCourses\") %>%\n",
    "                    html_elements(\"a\") \n",
    "    print(length(all_links))\n",
    "    if (length(all_links) == 0 )\n",
    "        {\n",
    "        new_table <- data.frame(\"course_code\"=0, \"course_name\"=0, \"Domestic_fee\"=0, \"International_fee\"=0, \"Start_date\"=0, \"End_date\"=0, \"Points\"=0, 'Webpage=0')\n",
    "        return(new_table)\n",
    "    }else{\n",
    "    table_a_tage <- bind_rows(lapply(html_attrs(all_links), function(x) data.frame(as.list(x), stringsAsFactors=FALSE)))\n",
    "    prefix <- \"https://www.canterbury.ac.nz/courseinfo/\"\n",
    "    table_a_tage_without_na <- table_a_tage[3] %>% filter(href!=\"NA\") %>% mutate(href = str_c(prefix, href))                                \n",
    "    max_row <- nrow(table_a_tage_without_na)\n",
    "    new_table <- data.frame(\"course_code\"=0, \"course_name\"=0, \"Domestic_fee\"=0, \"International_fee\"=0, \"Start_date\"=0, \"End_date\"=0, \"Points\"=0, 'Webpage=0')\n",
    "\n",
    "    for (i in 1:max_row){\n",
    "         a <- table_a_tage_without_na[i,]\n",
    "         b <- a %>% get_detail()\n",
    "         new_table[nrow(new_table) + 1,] = c(b[1], b[2], b[3], b[4], b[5], b[6], b[7], a)\n",
    "\n",
    "                                        }\n",
    "    delet_first_row <- new_table[-1,] \n",
    "    return(delet_first_row) \n",
    "    }\n",
    "}\n",
    "#one_subject_all_courses_detetal(url_adreess_French)\n",
    "#one_subject_all_courses_detetal(\"https://www.canterbury.ac.nz/courseinfo/GetCourseDetails.aspx?course=GISC309&year=2021\")                                  "
   ]
  },
  {
   "cell_type": "code",
   "execution_count": 26,
   "metadata": {},
   "outputs": [
    {
     "name": "stdout",
     "output_type": "stream",
     "text": [
      "[1] 40\n",
      "        course_code                                             course_name\n",
      "2  FREN121-21S1 (C)                French Language Acquisition: Beginners A\n",
      "3  FREN122-21S2 (C)                French Language Acquisition: Beginners B\n",
      "4  FREN211-21S2 (C)                        Banned Books and Countercultures\n",
      "5  FREN221-21S1 (C)            French Language Acquisition : Intermediate A\n",
      "6  FREN222-21S2 (C)            French Language Acquisition : Intermediate B\n",
      "7  FREN311-21S2 (C)                        Banned Books and Countercultures\n",
      "8  FREN321-21S1 (C)                 French Language Acquisition: Advanced A\n",
      "9  FREN322-21S2 (C)                 French Language Acquisition: Advanced B\n",
      "10 FREN401-21S1 (C)                                         Advanced French\n",
      "11 FREN418-21S2 (C)                                           Special Topic\n",
      "12 FREN422-21S2 (C)                                      French Translation\n",
      "13 FREN480-21S2 (C)                                          Research Essay\n",
      "14  FREN650-21A (C)                                         MA Dissertation\n",
      "15 FREN650-21S1 (C)                                         MA Dissertation\n",
      "16 FREN650-21S2 (C)                                         MA Dissertation\n",
      "17  FREN690-21A (C)                                               MA Thesis\n",
      "18  FREN790-21A (C)                                              French PhD\n",
      "19 LANC401-21S1 (C) In Other Words What? Theory and Practice of Translation\n",
      "20 LANC403-21S1 (C)     Translation in the digital era: tools and practices\n",
      "21          FREN106                                                    NULL\n",
      "22          FREN120                                                    NULL\n",
      "23          FREN223                                                    NULL\n",
      "24          FREN226                                                    NULL\n",
      "25          FREN323                                                    NULL\n",
      "26          FREN326                                                    NULL\n",
      "27          FREN444                                                    NULL\n",
      "   Domestic_fee International_fee               Start_date\n",
      "2       $785.00         $3,500.00 Monday, 22 February 2021\n",
      "3       $785.00         $3,500.00     Monday, 19 July 2021\n",
      "4       $785.00         $3,500.00     Monday, 19 July 2021\n",
      "5       $785.00         $3,500.00 Monday, 22 February 2021\n",
      "6       $785.00         $3,500.00     Monday, 19 July 2021\n",
      "7     $1,570.00         $7,000.00     Monday, 19 July 2021\n",
      "8     $1,570.00         $7,000.00 Monday, 22 February 2021\n",
      "9     $1,570.00         $7,000.00     Monday, 19 July 2021\n",
      "10    $1,905.00              NULL Monday, 22 February 2021\n",
      "11    $1,905.00              NULL     Monday, 19 July 2021\n",
      "12    $1,905.00              NULL     Monday, 19 July 2021\n",
      "13    $1,905.00              NULL     Monday, 19 July 2021\n",
      "14    $3,550.00              NULL                     NULL\n",
      "15    $3,550.00              NULL Monday, 22 February 2021\n",
      "16    $3,550.00              NULL     Monday, 19 July 2021\n",
      "17    $7,099.00              NULL                     NULL\n",
      "18    $7,099.00              NULL                     NULL\n",
      "19    $1,905.00              NULL Monday, 22 February 2021\n",
      "20    $1,905.00              NULL Monday, 22 February 2021\n",
      "21         NULL              NULL                     NULL\n",
      "22         NULL              NULL                     NULL\n",
      "23         NULL              NULL                     NULL\n",
      "24         NULL              NULL                     NULL\n",
      "25         NULL              NULL                     NULL\n",
      "26         NULL              NULL                     NULL\n",
      "27         NULL              NULL                     NULL\n",
      "                   End_date     Points\n",
      "2      Sunday, 27 June 2021  15 points\n",
      "3  Sunday, 14 November 2021  15 points\n",
      "4  Sunday, 14 November 2021  15 points\n",
      "5      Sunday, 27 June 2021  15 points\n",
      "6  Sunday, 14 November 2021  15 points\n",
      "7  Sunday, 14 November 2021  30 points\n",
      "8      Sunday, 27 June 2021  30 points\n",
      "9  Sunday, 14 November 2021  30 points\n",
      "10     Sunday, 27 June 2021  30 points\n",
      "11 Sunday, 14 November 2021  30 points\n",
      "12 Sunday, 14 November 2021  30 points\n",
      "13 Sunday, 14 November 2021  30 points\n",
      "14                     NULL  60 points\n",
      "15     Sunday, 27 June 2021  60 points\n",
      "16 Sunday, 14 November 2021  60 points\n",
      "17                     NULL 120 points\n",
      "18                     NULL 120 points\n",
      "19     Sunday, 27 June 2021  30 points\n",
      "20     Sunday, 27 June 2021  30 points\n",
      "21                     NULL  15 points\n",
      "22                     NULL  15 points\n",
      "23                     NULL  15 points\n",
      "24                     NULL  15 points\n",
      "25                     NULL  30 points\n",
      "26                     NULL  30 points\n",
      "27                     NULL  30 points\n",
      "                                                                                                X.Webpage.0.\n",
      "2  https://www.canterbury.ac.nz/courseinfo/GetCourseDetails.aspx?course=FREN121&occurrence=21S1(C)&year=2021\n",
      "3  https://www.canterbury.ac.nz/courseinfo/GetCourseDetails.aspx?course=FREN122&occurrence=21S2(C)&year=2021\n",
      "4  https://www.canterbury.ac.nz/courseinfo/GetCourseDetails.aspx?course=FREN211&occurrence=21S2(C)&year=2021\n",
      "5  https://www.canterbury.ac.nz/courseinfo/GetCourseDetails.aspx?course=FREN221&occurrence=21S1(C)&year=2021\n",
      "6  https://www.canterbury.ac.nz/courseinfo/GetCourseDetails.aspx?course=FREN222&occurrence=21S2(C)&year=2021\n",
      "7  https://www.canterbury.ac.nz/courseinfo/GetCourseDetails.aspx?course=FREN311&occurrence=21S2(C)&year=2021\n",
      "8  https://www.canterbury.ac.nz/courseinfo/GetCourseDetails.aspx?course=FREN321&occurrence=21S1(C)&year=2021\n",
      "9  https://www.canterbury.ac.nz/courseinfo/GetCourseDetails.aspx?course=FREN322&occurrence=21S2(C)&year=2021\n",
      "10 https://www.canterbury.ac.nz/courseinfo/GetCourseDetails.aspx?course=FREN401&occurrence=21S1(C)&year=2021\n",
      "11 https://www.canterbury.ac.nz/courseinfo/GetCourseDetails.aspx?course=FREN418&occurrence=21S2(C)&year=2021\n",
      "12 https://www.canterbury.ac.nz/courseinfo/GetCourseDetails.aspx?course=FREN422&occurrence=21S2(C)&year=2021\n",
      "13 https://www.canterbury.ac.nz/courseinfo/GetCourseDetails.aspx?course=FREN480&occurrence=21S2(C)&year=2021\n",
      "14  https://www.canterbury.ac.nz/courseinfo/GetCourseDetails.aspx?course=FREN650&occurrence=21A(C)&year=2021\n",
      "15 https://www.canterbury.ac.nz/courseinfo/GetCourseDetails.aspx?course=FREN650&occurrence=21S1(C)&year=2021\n",
      "16 https://www.canterbury.ac.nz/courseinfo/GetCourseDetails.aspx?course=FREN650&occurrence=21S2(C)&year=2021\n",
      "17  https://www.canterbury.ac.nz/courseinfo/GetCourseDetails.aspx?course=FREN690&occurrence=21A(C)&year=2021\n",
      "18  https://www.canterbury.ac.nz/courseinfo/GetCourseDetails.aspx?course=FREN790&occurrence=21A(C)&year=2021\n",
      "19 https://www.canterbury.ac.nz/courseinfo/GetCourseDetails.aspx?course=LANC401&occurrence=21S1(C)&year=2021\n",
      "20 https://www.canterbury.ac.nz/courseinfo/GetCourseDetails.aspx?course=LANC403&occurrence=21S1(C)&year=2021\n",
      "21                    https://www.canterbury.ac.nz/courseinfo/GetCourseDetails.aspx?course=FREN106&year=2021\n",
      "22                    https://www.canterbury.ac.nz/courseinfo/GetCourseDetails.aspx?course=FREN120&year=2021\n",
      "23                    https://www.canterbury.ac.nz/courseinfo/GetCourseDetails.aspx?course=FREN223&year=2021\n",
      "24                    https://www.canterbury.ac.nz/courseinfo/GetCourseDetails.aspx?course=FREN226&year=2021\n",
      "25                    https://www.canterbury.ac.nz/courseinfo/GetCourseDetails.aspx?course=FREN323&year=2021\n",
      "26                    https://www.canterbury.ac.nz/courseinfo/GetCourseDetails.aspx?course=FREN326&year=2021\n",
      "27                    https://www.canterbury.ac.nz/courseinfo/GetCourseDetails.aspx?course=FREN444&year=2021\n"
     ]
    }
   ],
   "source": [
    "#https://www.canterbury.ac.nz/courseinfo/GetCourses.aspx?subjectnames=French&viewby=subject&year2021\n",
    "url_adreess_subjects <- \"https://www.canterbury.ac.nz/courseinfo/subjects.aspx\"\n",
    "get_all_course <- function(subjects_url){\n",
    "                        url_subjects_a <- url_adreess_subjects %>%\n",
    "                        read_html() %>% html_elements(\"#ctl00_ContentPlaceHolder1_SubjectStartRepeater_ctl00_SubjectRepeater_ctl01_SubjectHyperLink\")#%>% html_elements('li') %>% html_elements('a')#%>% html_elements(\"#content\") %>% html_elements('.row') %>% html_elements('.col-md-6') %>% html_elements('a')\n",
    "                        table_a_tage <- bind_rows(lapply(html_attrs(url_subjects_a), function(x) data.frame(as.list(x), stringsAsFactors=FALSE)))\n",
    "                        max_row <- nrow(table_a_tage)\n",
    "                        prefix_subject <- \"https://www.canterbury.ac.nz/courseinfo/\"\n",
    "                        for(i in 1:max_row){\n",
    "                             one_subject_url <- table_a_tage[i,2] %>% str_c(prefix_subject,.) %>% str_replace_all(\" \", \"%20\")\n",
    "                             a <- one_subject_all_courses_detetal(one_subject_url)\n",
    "                             print(a)\n",
    "                        }\n",
    "                    }\n",
    "get_all_course(url_adreess_subjects)  #print all courses table  then we can work on combine them"
   ]
  },
  {
   "cell_type": "markdown",
   "metadata": {},
   "source": [
    "### Task (b): wrangle it (5 marks)\n",
    "\n",
    "\n",
    "Working on the page from task (a), transform the data you collected into relational data model (that is, one or more data frames). WARNING: you will need to think and motivate how you are doing this in terms of the **data model** you are trying to build; just throwing everything in a table is not enough."
   ]
  },
  {
   "cell_type": "code",
   "execution_count": null,
   "metadata": {},
   "outputs": [],
   "source": []
  },
  {
   "cell_type": "code",
   "execution_count": null,
   "metadata": {},
   "outputs": [],
   "source": [
    "# your answer here"
   ]
  },
  {
   "cell_type": "markdown",
   "metadata": {},
   "source": [
    "### Task (c): automate it (5 marks)\n",
    "\n",
    "Now it's the time to scrape everything else in the website. Turn your code for tasks (a) and (b) into a function and using `purrr` (and its `map_` functions, possibly in combination with `possibly`) apply that function to all the pages you are interested in (as we have done in lab 6); the output of the task should be a relation dataset (i.e., one or more dataframes, and if more than one, explicit their relationships)."
   ]
  },
  {
   "cell_type": "code",
   "execution_count": null,
   "metadata": {},
   "outputs": [],
   "source": [
    "# your answer here"
   ]
  },
  {
   "cell_type": "markdown",
   "metadata": {},
   "source": [
    "### Task (d): plot it (2 marks)\n",
    "\n",
    "Use graphics (via `ggplot`) to represent the data you collected in a meaningful way."
   ]
  },
  {
   "cell_type": "code",
   "execution_count": null,
   "metadata": {},
   "outputs": [],
   "source": [
    "# your answer here"
   ]
  },
  {
   "cell_type": "markdown",
   "metadata": {},
   "source": [
    "### Task (e): APIs (2 marks)\n",
    "\n",
    "Identify a web service offering data through an API. Access the API using `httr` and collect the information you care about. Convert the data into a dataframe (or more than one). Represent it graphically in a meaningful way."
   ]
  },
  {
   "cell_type": "code",
   "execution_count": null,
   "metadata": {},
   "outputs": [],
   "source": [
    "# your answer here"
   ]
  },
  {
   "cell_type": "markdown",
   "metadata": {},
   "source": [
    "### Comment, explain and present the work in a clear way (1 marks)"
   ]
  }
 ],
 "metadata": {
  "kernelspec": {
   "display_name": "R",
   "language": "R",
   "name": "ir"
  },
  "language_info": {
   "codemirror_mode": "r",
   "file_extension": ".r",
   "mimetype": "text/x-r-source",
   "name": "R",
   "pygments_lexer": "r",
   "version": "4.1.0"
  }
 },
 "nbformat": 4,
 "nbformat_minor": 4
}
