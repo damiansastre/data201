{
 "cells": [
  {
   "cell_type": "markdown",
   "metadata": {},
   "source": [
    "# Data 201\n",
    "\n",
    "Data Wrangling, S2 2021\n",
    "\n",
    "## Assignement 2\n",
    "\n",
    "### 20% of final grade\n",
    "\n",
    "## Due date: 2pm Tuesday 12 October 2021\n",
    "\n",
    "The assignment must be submitted on the DATA 201 and 422 Learn page and should be **your own pair** (or group of three if we are odd) **work**. Avoid plagiarism: if you are not sure what may constitute code plagiarism, read this http://web.science.mq.edu.au/~mtaylor/ponline/index.php?id=source-code-plagiarism. Remember, when in doubt **declare your sources**.  \n",
    "As a general rule, late submission are **highly** unsuggested. The pace of the course is very quick, and you don't want to be working on this too long, as you would have less time for other assignments. I suggest you to submit what you have ready by the time the assignment is due, even if it is not everything we required. For any particular problem, please contact [Thomas Li](thomas.li@canterbury.ac.nz) or [Giulio Dalla Riva](giulio.dallariva@canterbury.ac.nz) or TAs.\n",
    "\n",
    "\n",
    "## Instruction\n",
    "\n",
    "### Total: 20 marks.\n",
    "\n",
    "For this assignment you will work with data from the web. Your goal is to scrape it or request it, wrangle it, produce some plotting, in order to demonstrate that you are able to use the functions, plotting, and markdown format we have been learning.  \n",
    "You shall hand in your work as a jupyter R notebook comprehending the code, the plots and, **very important**, enough comments and explanations for us to understand what you did, how you did it, and why you did it. Remember: better comments, means better marks.  \n",
    "You can either modify this notebook or write a new one from scratch."
   ]
  },
  {
   "cell_type": "markdown",
   "metadata": {},
   "source": [
    "Do use the tidyverse syntax that's introduced in class and labs. If in doubt, refresh the lab material 1 to 7."
   ]
  },
  {
   "cell_type": "markdown",
   "metadata": {},
   "source": [
    "### Task (a): scrape it (5 marks)\n",
    "\n",
    "Identify a website page showing information you find interesting. The information should be presented across more than one page. Select one of this pages (the rest is for later) and using `rvest` (and the suit of `tidyverse` libraries we used so far, plus any other one you may need) get the html into R."
   ]
  },
  {
   "cell_type": "markdown",
   "metadata": {},
   "source": [
    "tidyverse: collection of R packages\n",
    "rvest: read webpage and expore content."
   ]
  },
  {
   "cell_type": "code",
   "execution_count": 1,
   "metadata": {},
   "outputs": [
    {
     "name": "stderr",
     "output_type": "stream",
     "text": [
      "-- \u001b[1mAttaching packages\u001b[22m --------------------------------------- tidyverse 1.3.1 --\n",
      "\n",
      "\u001b[32mv\u001b[39m \u001b[34mggplot2\u001b[39m 3.3.5     \u001b[32mv\u001b[39m \u001b[34mpurrr  \u001b[39m 0.3.4\n",
      "\u001b[32mv\u001b[39m \u001b[34mtibble \u001b[39m 3.1.4     \u001b[32mv\u001b[39m \u001b[34mdplyr  \u001b[39m 1.0.7\n",
      "\u001b[32mv\u001b[39m \u001b[34mtidyr  \u001b[39m 1.1.3     \u001b[32mv\u001b[39m \u001b[34mstringr\u001b[39m 1.4.0\n",
      "\u001b[32mv\u001b[39m \u001b[34mreadr  \u001b[39m 2.0.0     \u001b[32mv\u001b[39m \u001b[34mforcats\u001b[39m 0.5.1\n",
      "\n",
      "-- \u001b[1mConflicts\u001b[22m ------------------------------------------ tidyverse_conflicts() --\n",
      "\u001b[31mx\u001b[39m \u001b[34mdplyr\u001b[39m::\u001b[32mfilter()\u001b[39m masks \u001b[34mstats\u001b[39m::filter()\n",
      "\u001b[31mx\u001b[39m \u001b[34mdplyr\u001b[39m::\u001b[32mlag()\u001b[39m    masks \u001b[34mstats\u001b[39m::lag()\n",
      "\n",
      "\n",
      "Attaching package: 'rvest'\n",
      "\n",
      "\n",
      "The following object is masked from 'package:readr':\n",
      "\n",
      "    guess_encoding\n",
      "\n",
      "\n"
     ]
    }
   ],
   "source": [
    "library(tidyverse)\n",
    "library(rvest)\n",
    "\n"
   ]
  },
  {
   "cell_type": "code",
   "execution_count": 2,
   "metadata": {},
   "outputs": [],
   "source": [
    "#url_adreess_math001 <- \"https://www.canterbury.ac.nz/courseinfo/GetCourseDetails.aspx?course=MATH101&occurrence=22S1(C)&year=2022\"\n",
    "\n",
    "#use readed course url to get all details we want\n",
    "get_text <- function(url_readed,selector){\n",
    "        text_need <- url_readed %>%\n",
    "                        html_elements(selector) %>%\n",
    "                        html_text()\n",
    "        return(text_need)\n",
    "    }\n",
    "get_detail <- function(web_url){\n",
    "    \n",
    "    url_readed <- web_url %>% read_html()\n",
    "    \n",
    "    node_selector <- \"#ctl00_ContentPlaceHolder1_CourseCodeLabel\"\n",
    "    course_code <- get_text(url_readed, node_selector)\n",
    "    if (identical(course_code, character(0))){\n",
    "        course_code = 'NULL'\n",
    "    }\n",
    "\n",
    "    node_selector <- \"#ctl00_ContentPlaceHolder1_CourseOccurrenceTitleLabel\"\n",
    "    course_name <- get_text(url_readed, node_selector)\n",
    "    if (identical(course_name, character(0))){\n",
    "        course_name = 'NULL'\n",
    "    }\n",
    "\n",
    "    node_selector <- \"#ctl00_ContentPlaceHolder1_DomesticFeeLabel\"\n",
    "    Domestic_fee <- get_text(url_readed, node_selector)\n",
    "    if (identical(Domestic_fee, character(0))){\n",
    "        Domestic_fee = 'NULL'\n",
    "    }\n",
    "\n",
    "    node_selector <- \"#ctl00_ContentPlaceHolder1_InternationalFeeLabel\"\n",
    "    International_fee <- get_text(url_readed, node_selector)\n",
    "    if (identical(International_fee, character(0))){\n",
    "        International_fee = 'NULL'\n",
    "    }\n",
    "\n",
    "    node_selector <- \"#ctl00_ContentPlaceHolder1_StartDateLabel\"\n",
    "    Start_date <- get_text(url_readed, node_selector)\n",
    "    if (identical(Start_date, character(0))){\n",
    "        Start_date = 'NULL'\n",
    "    }\n",
    "\n",
    "    node_selector <- \"#ctl00_ContentPlaceHolder1_EndDateLabel\"\n",
    "    End_date <- get_text(url_readed, node_selector)\n",
    "    if (identical(End_date, character(0))){\n",
    "        End_date = 'NULL'\n",
    "    }\n",
    "\n",
    "    node_selector <- \"#ctl00_ContentPlaceHolder1_PointsAndEftsLabel\"\n",
    "    Points <- get_text(url_readed, node_selector)\n",
    "    if (identical(Points, character(0))){\n",
    "        Points = 'NULL'\n",
    "    }\n",
    "    return(list(course_code, course_name, Domestic_fee, International_fee, Start_date, End_date, Points))\n",
    "}\n"
   ]
  },
  {
   "cell_type": "code",
   "execution_count": 3,
   "metadata": {},
   "outputs": [],
   "source": [
    "#url_adreess_French <- \"https://www.canterbury.ac.nz/courseinfo/GetCourses.aspx?subjectnames=French&viewby=subject&year2021\"             \n",
    "# library(skimr)\n",
    "# table_a_tage_without_na %>% skim()\n",
    "# table_a_tage_without_na %>% mutate(new_col = get_detail(href))  why this can not work??????????            \n",
    "                                 \n",
    "one_subject_all_courses_detetal <- function(subject_url){\n",
    "    read_url_subjects <- subject_url %>%\n",
    "                            read_html()\n",
    "    all_links <- read_url_subjects %>% \n",
    "                    html_element(\"#GetCourses\") %>%\n",
    "                    html_elements(\"a\") \n",
    "    table_a_tage <- bind_rows(lapply(html_attrs(all_links), function(x) data.frame(as.list(x), stringsAsFactors=FALSE)))\n",
    "    prefix <- \"https://www.canterbury.ac.nz/courseinfo/\"\n",
    "    table_a_tage_without_na <- table_a_tage[3] %>% filter(href!=\"NA\") %>% mutate(href = str_c(prefix, href))                                \n",
    "    max_row <- nrow(table_a_tage_without_na)\n",
    "    new_table <- data.frame(\"course_code\"=0, \"course_name\"=0, \"Domestic_fee\"=0, \"International_fee\"=0, \"Start_date\"=0, \"End_date\"=0, \"Points\"=0, 'Webpage=0')\n",
    "\n",
    "    for (i in 1:max_row){\n",
    "         a <- table_a_tage_without_na[i,]\n",
    "         b <- a %>% get_detail()\n",
    "         new_table[nrow(new_table) + 1,] = c(b[1], b[2], b[3], b[4], b[5], b[6], b[7], a)\n",
    "\n",
    "                                        }\n",
    "    delet_first_row <- new_table[-1,] \n",
    "    return(delet_first_row)                   \n",
    "}\n",
    "#one_subject_all_courses_detetal(url_adreess_French)"
   ]
  },
  {
   "cell_type": "code",
   "execution_count": null,
   "metadata": {},
   "outputs": [],
   "source": [
    "#https://www.canterbury.ac.nz/courseinfo/GetCourses.aspx?subjectnames=French&viewby=subject&year2021\n",
    "url_adreess_subjects <- \"https://www.canterbury.ac.nz/courseinfo/subjects.aspx\"\n",
    "get_all_course <- function(subjects_url){\n",
    "                        url_subjects_a <- url_adreess_subjects %>%\n",
    "                        read_html() %>% html_elements('.row') %>% html_elements('.col-md-6') %>% html_elements('a')\n",
    "                        table_a_tage <- bind_rows(lapply(html_attrs(url_subjects_a), function(x) data.frame(as.list(x), stringsAsFactors=FALSE)))\n",
    "                        max_row <- nrow(table_a_tage)\n",
    "                        prefix_subject <- \"https://www.canterbury.ac.nz/courseinfo/\"\n",
    "\n",
    "                        for(i in 1:max_row){\n",
    "                             one_subject_url <- table_a_tage[i,2] %>% str_c(prefix_subject,.) %>% str_replace_all(\" \", \"%20\")\n",
    "                             a <- one_subject_all_courses_detetal(one_subject_url)\n",
    "                             print(a)\n",
    "                        }\n",
    "                    }\n",
    "get_all_course(url_adreess_subjects)  #print all courses table  then we can work on combine them"
   ]
  },
  {
   "cell_type": "markdown",
   "metadata": {},
   "source": [
    "### Task (b): wrangle it (5 marks)\n",
    "\n",
    "\n",
    "Working on the page from task (a), transform the data you collected into relational data model (that is, one or more data frames). WARNING: you will need to think and motivate how you are doing this in terms of the **data model** you are trying to build; just throwing everything in a table is not enough."
   ]
  },
  {
   "cell_type": "code",
   "execution_count": null,
   "metadata": {},
   "outputs": [],
   "source": []
  },
  {
   "cell_type": "code",
   "execution_count": null,
   "metadata": {},
   "outputs": [],
   "source": [
    "# your answer here"
   ]
  },
  {
   "cell_type": "markdown",
   "metadata": {},
   "source": [
    "### Task (c): automate it (5 marks)\n",
    "\n",
    "Now it's the time to scrape everything else in the website. Turn your code for tasks (a) and (b) into a function and using `purrr` (and its `map_` functions, possibly in combination with `possibly`) apply that function to all the pages you are interested in (as we have done in lab 6); the output of the task should be a relation dataset (i.e., one or more dataframes, and if more than one, explicit their relationships)."
   ]
  },
  {
   "cell_type": "code",
   "execution_count": null,
   "metadata": {},
   "outputs": [],
   "source": [
    "# your answer here"
   ]
  },
  {
   "cell_type": "markdown",
   "metadata": {},
   "source": [
    "### Task (d): plot it (2 marks)\n",
    "\n",
    "Use graphics (via `ggplot`) to represent the data you collected in a meaningful way."
   ]
  },
  {
   "cell_type": "code",
   "execution_count": null,
   "metadata": {},
   "outputs": [],
   "source": [
    "# your answer here"
   ]
  },
  {
   "cell_type": "markdown",
   "metadata": {},
   "source": [
    "### Task (e): APIs (2 marks)\n",
    "\n",
    "Identify a web service offering data through an API. Access the API using `httr` and collect the information you care about. Convert the data into a dataframe (or more than one). Represent it graphically in a meaningful way."
   ]
  },
  {
   "cell_type": "code",
   "execution_count": null,
   "metadata": {},
   "outputs": [],
   "source": [
    "# your answer here"
   ]
  },
  {
   "cell_type": "markdown",
   "metadata": {},
   "source": [
    "### Comment, explain and present the work in a clear way (1 marks)"
   ]
  }
 ],
 "metadata": {
  "kernelspec": {
   "display_name": "R",
   "language": "R",
   "name": "ir"
  },
  "language_info": {
   "codemirror_mode": "r",
   "file_extension": ".r",
   "mimetype": "text/x-r-source",
   "name": "R",
   "pygments_lexer": "r",
   "version": "4.1.0"
  }
 },
 "nbformat": 4,
 "nbformat_minor": 4
}
