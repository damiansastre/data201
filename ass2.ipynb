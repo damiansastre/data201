get_text <- function(url_readed,selector){
        text_need <- url_readed %>%
                        html_elements(selector) %>%
                        html_text()
        return(text_need)
    }
get_detail <- function(web_url){

    url_readed <- web_url %>% read_html()

    node_selector <- "#ctl00_ContentPlaceHolder1_CourseCodeLabel"
    course_code <- get_text(url_readed, node_selector)


    node_selector <- "#ctl00_ContentPlaceHolder1_CourseOccurrenceTitleLabel"
    course_name <- get_text(url_readed, node_selector)


    node_selector <- "#ctl00_ContentPlaceHolder1_DomesticFeeLabel"
    Domestic_fee <- get_text(url_readed, node_selector)


    node_selector <- "#ctl00_ContentPlaceHolder1_InternationalFeeLabel"
    International_fee <- get_text(url_readed, node_selector)


    node_selector <- "#ctl00_ContentPlaceHolder1_StartDateLabel"
    Start_date <- get_text(url_readed, node_selector)


    node_selector <- "#ctl00_ContentPlaceHolder1_EndDateLabel"
    End_date <- get_text(url_readed, node_selector)


    node_selector <- "#ctl00_ContentPlaceHolder1_PointsAndEftsLabel"
    Points <- get_text(url_readed, node_selector)

    return(c(course_code, course_name, Domestic_fee, International_fee, Start_date, End_date, Points))
}
[19:43]
url_adreess_French <- "https://www.canterbury.ac.nz/courseinfo/GetCourses.aspx?subjectnames=French&viewby=subject&year2021"
read_url_subjects <- url_adreess_French %>%
                        read_html()

all_links <- read_url_subjects %>% 
    html_element("#GetCourses") %>%
    html_elements("a") 
table_a_tage <- bind_rows(lapply(xml_attrs(all_links), function(x) data.frame(as.list(x), stringsAsFactors=FALSE)))

prefix <- "https://www.canterbury.ac.nz/courseinfo/"
table_a_tage_without_na <- table_a_tage[3] %>% filter(href!="NA") %>% mutate(href = str_c(prefix, href))

for (link in table_a_tage_without_na){
     url <- str_c(prefix, link)
     get_detail(url)
}
# table_a_tage_without_na %>% mutate(new_col = get_detail(href))
