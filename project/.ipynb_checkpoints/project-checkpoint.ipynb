{
 "cells": [
  {
   "cell_type": "code",
   "execution_count": 2,
   "id": "a454793c-68c1-4f3b-9880-a9ba737911da",
   "metadata": {},
   "outputs": [
    {
     "name": "stderr",
     "output_type": "stream",
     "text": [
      "─ \u001b[1mAttaching packages\u001b[22m ──────────────────── tidyverse 1.3.1 ─\n",
      "\n",
      "\u001b[32m✔\u001b[39m \u001b[34mggplot2\u001b[39m 3.3.5     \u001b[32m✔\u001b[39m \u001b[34mpurrr  \u001b[39m 0.3.4\n",
      "\u001b[32m✔\u001b[39m \u001b[34mtibble \u001b[39m 3.1.5     \u001b[32m✔\u001b[39m \u001b[34mdplyr  \u001b[39m 1.0.7\n",
      "\u001b[32m✔\u001b[39m \u001b[34mtidyr  \u001b[39m 1.1.4     \u001b[32m✔\u001b[39m \u001b[34mstringr\u001b[39m 1.4.0\n",
      "\u001b[32m✔\u001b[39m \u001b[34mreadr  \u001b[39m 2.0.2     \u001b[32m✔\u001b[39m \u001b[34mforcats\u001b[39m 0.5.1\n",
      "\n",
      "─ \u001b[1mConflicts\u001b[22m ───────────────────── tidyverse_conflicts() ─\n",
      "\u001b[31m✖\u001b[39m \u001b[34mdplyr\u001b[39m::\u001b[32mfilter()\u001b[39m masks \u001b[34mstats\u001b[39m::filter()\n",
      "\u001b[31m✖\u001b[39m \u001b[34mdplyr\u001b[39m::\u001b[32mlag()\u001b[39m    masks \u001b[34mstats\u001b[39m::lag()\n",
      "\n",
      "\n",
      "载入程辑包：‘rvest’\n",
      "\n",
      "\n",
      "The following object is masked from ‘package:readr’:\n",
      "\n",
      "    guess_encoding\n",
      "\n",
      "\n"
     ]
    }
   ],
   "source": [
    "#install.packages(\"readxl\")\n",
    "library(tidyverse)\n",
    "library(rvest)\n",
    "library(readxl)"
   ]
  },
  {
   "cell_type": "code",
   "execution_count": 3,
   "id": "c1ccd06c-aa86-40f6-bdc9-a06a8f98eb3d",
   "metadata": {},
   "outputs": [],
   "source": [
    "#first we get all xlsx file links from url\n",
    "mental_health_data_urls_all_years <- 'https://www.health.govt.nz/our-work/mental-health-and-addiction/mental-health-and-addiction-monitoring-reporting-and-data' %>% \n",
    "                                        read_html() %>%\n",
    "                                        html_element('#node-12245 > div > div > div > ul:nth-child(19)') %>%\n",
    "                                        html_elements(\"a\") %>%\n",
    "                                        html_attrs() %>% \n",
    "                                        str_c('https://www.health.govt.nz/', .)\n",
    "\n",
    "#function is to download xlsx from health url \n",
    "download_xlsx_file <- function(heath_url, file_name){\n",
    "                        download_ur <- heath_url %>% \n",
    "                            read_html() %>%\n",
    "                            html_element(\"#block-system-main > div > div:nth-child(2) > div.panel-panel.right.col-xs-12.col-sm-12.col-md-3.col-lg-3 > div.panel-pane.pane-views.pane-file-attachments-revisioning.pane-downloads-right.standard-block.even.hidden-xs.hidden-sm > div > div > div > div > ul > li > span > a\") %>% \n",
    "                            html_attr(\"href\") \n",
    "                        download.file(url = download_ur, destfile = file_name)}\n",
    "\n",
    "#iteral through every year from 2014 to 2019\n",
    "start_year = 2014\n",
    "for (url_yearly_health in mental_health_data_urls_all_years){\n",
    "    file_name = str_c('mental_health', start_year) %>% \n",
    "                    str_c('.xlsx')\n",
    "    start_year = start_year + 1\n",
    "    download_xlsx_file(url_yearly_health, file_name)\n",
    "    }"
   ]
  },
  {
   "cell_type": "code",
   "execution_count": 4,
   "id": "88922397-e337-409f-a892-1a9eb88c63f7",
   "metadata": {},
   "outputs": [],
   "source": [
    "#list all download file names\n",
    "file_name = c('mental_health2020.xlsx','mental_health2019.xlsx','mental_health2018.xlsx','mental_health2017.xlsx','mental_health2016.xlsx','mental_health2015.xlsx','mental_health2014.xlsx')"
   ]
  },
  {
   "cell_type": "code",
   "execution_count": 72,
   "id": "c98b0871-8181-4950-958c-a04050b184a7",
   "metadata": {},
   "outputs": [],
   "source": [
    "#get all col names for table use after\n",
    "age_group_col_names <-file_name[1] %>% read_excel(sheet = \"table1&2\", range = cell_rows(4:4)) %>% colnames()\n",
    "add_sex_totl_age_group_col_names <- c('sex', \"Total\", age_group_col_names)\n"
   ]
  },
  {
   "cell_type": "code",
   "execution_count": 92,
   "id": "51b0ba93-101b-442c-ad29-cd3d840efdb1",
   "metadata": {},
   "outputs": [
    {
     "data": {
      "text/html": [
       "<table class=\"dataframe\">\n",
       "<caption>A tibble: 3 × 20</caption>\n",
       "<thead>\n",
       "\t<tr><th scope=col>sex</th><th scope=col>Total</th><th scope=col>0-</th><th scope=col>5-</th><th scope=col>10-</th><th scope=col>15-</th><th scope=col>20-</th><th scope=col>25-</th><th scope=col>30-</th><th scope=col>35-</th><th scope=col>40-</th><th scope=col>45-</th><th scope=col>50-</th><th scope=col>55-</th><th scope=col>60-</th><th scope=col>65-</th><th scope=col>70-</th><th scope=col>75-</th><th scope=col>80-</th><th scope=col>85+</th></tr>\n",
       "\t<tr><th scope=col>&lt;chr&gt;</th><th scope=col>&lt;dbl&gt;</th><th scope=col>&lt;dbl&gt;</th><th scope=col>&lt;dbl&gt;</th><th scope=col>&lt;dbl&gt;</th><th scope=col>&lt;dbl&gt;</th><th scope=col>&lt;dbl&gt;</th><th scope=col>&lt;dbl&gt;</th><th scope=col>&lt;dbl&gt;</th><th scope=col>&lt;dbl&gt;</th><th scope=col>&lt;dbl&gt;</th><th scope=col>&lt;dbl&gt;</th><th scope=col>&lt;dbl&gt;</th><th scope=col>&lt;dbl&gt;</th><th scope=col>&lt;dbl&gt;</th><th scope=col>&lt;dbl&gt;</th><th scope=col>&lt;dbl&gt;</th><th scope=col>&lt;dbl&gt;</th><th scope=col>&lt;dbl&gt;</th><th scope=col>&lt;dbl&gt;</th></tr>\n",
       "</thead>\n",
       "<tbody>\n",
       "\t<tr><td>Total </td><td>158158</td><td>1415</td><td>6764</td><td>14041</td><td>20401</td><td>16614</td><td>14168</td><td>12932</td><td>12345</td><td>13133</td><td>11307</td><td>9707</td><td>6760</td><td>4636</td><td>3434</td><td>2817</td><td>2559</td><td>2417</td><td>2708</td></tr>\n",
       "\t<tr><td>Male  </td><td> 83267</td><td> 920</td><td>4730</td><td> 7135</td><td>10001</td><td> 9345</td><td> 7750</td><td> 6855</td><td> 6651</td><td> 7071</td><td> 6088</td><td>5071</td><td>3507</td><td>2308</td><td>1546</td><td>1247</td><td>1091</td><td> 961</td><td> 990</td></tr>\n",
       "\t<tr><td>Female</td><td> 74891</td><td> 495</td><td>2034</td><td> 6906</td><td>10400</td><td> 7269</td><td> 6418</td><td> 6077</td><td> 5694</td><td> 6062</td><td> 5219</td><td>4636</td><td>3253</td><td>2328</td><td>1888</td><td>1570</td><td>1468</td><td>1456</td><td>1718</td></tr>\n",
       "</tbody>\n",
       "</table>\n"
      ],
      "text/latex": [
       "A tibble: 3 × 20\n",
       "\\begin{tabular}{llllllllllllllllllll}\n",
       " sex & Total & 0- & 5- & 10- & 15- & 20- & 25- & 30- & 35- & 40- & 45- & 50- & 55- & 60- & 65- & 70- & 75- & 80- & 85+\\\\\n",
       " <chr> & <dbl> & <dbl> & <dbl> & <dbl> & <dbl> & <dbl> & <dbl> & <dbl> & <dbl> & <dbl> & <dbl> & <dbl> & <dbl> & <dbl> & <dbl> & <dbl> & <dbl> & <dbl> & <dbl>\\\\\n",
       "\\hline\n",
       "\t Total  & 158158 & 1415 & 6764 & 14041 & 20401 & 16614 & 14168 & 12932 & 12345 & 13133 & 11307 & 9707 & 6760 & 4636 & 3434 & 2817 & 2559 & 2417 & 2708\\\\\n",
       "\t Male   &  83267 &  920 & 4730 &  7135 & 10001 &  9345 &  7750 &  6855 &  6651 &  7071 &  6088 & 5071 & 3507 & 2308 & 1546 & 1247 & 1091 &  961 &  990\\\\\n",
       "\t Female &  74891 &  495 & 2034 &  6906 & 10400 &  7269 &  6418 &  6077 &  5694 &  6062 &  5219 & 4636 & 3253 & 2328 & 1888 & 1570 & 1468 & 1456 & 1718\\\\\n",
       "\\end{tabular}\n"
      ],
      "text/markdown": [
       "\n",
       "A tibble: 3 × 20\n",
       "\n",
       "| sex &lt;chr&gt; | Total &lt;dbl&gt; | 0- &lt;dbl&gt; | 5- &lt;dbl&gt; | 10- &lt;dbl&gt; | 15- &lt;dbl&gt; | 20- &lt;dbl&gt; | 25- &lt;dbl&gt; | 30- &lt;dbl&gt; | 35- &lt;dbl&gt; | 40- &lt;dbl&gt; | 45- &lt;dbl&gt; | 50- &lt;dbl&gt; | 55- &lt;dbl&gt; | 60- &lt;dbl&gt; | 65- &lt;dbl&gt; | 70- &lt;dbl&gt; | 75- &lt;dbl&gt; | 80- &lt;dbl&gt; | 85+ &lt;dbl&gt; |\n",
       "|---|---|---|---|---|---|---|---|---|---|---|---|---|---|---|---|---|---|---|---|\n",
       "| Total  | 158158 | 1415 | 6764 | 14041 | 20401 | 16614 | 14168 | 12932 | 12345 | 13133 | 11307 | 9707 | 6760 | 4636 | 3434 | 2817 | 2559 | 2417 | 2708 |\n",
       "| Male   |  83267 |  920 | 4730 |  7135 | 10001 |  9345 |  7750 |  6855 |  6651 |  7071 |  6088 | 5071 | 3507 | 2308 | 1546 | 1247 | 1091 |  961 |  990 |\n",
       "| Female |  74891 |  495 | 2034 |  6906 | 10400 |  7269 |  6418 |  6077 |  5694 |  6062 |  5219 | 4636 | 3253 | 2328 | 1888 | 1570 | 1468 | 1456 | 1718 |\n",
       "\n"
      ],
      "text/plain": [
       "  sex    Total  0-   5-   10-   15-   20-   25-   30-   35-   40-   45-   50- \n",
       "1 Total  158158 1415 6764 14041 20401 16614 14168 12932 12345 13133 11307 9707\n",
       "2 Male    83267  920 4730  7135 10001  9345  7750  6855  6651  7071  6088 5071\n",
       "3 Female  74891  495 2034  6906 10400  7269  6418  6077  5694  6062  5219 4636\n",
       "  55-  60-  65-  70-  75-  80-  85+ \n",
       "1 6760 4636 3434 2817 2559 2417 2708\n",
       "2 3507 2308 1546 1247 1091  961  990\n",
       "3 3253 2328 1888 1570 1468 1456 1718"
      ]
     },
     "metadata": {},
     "output_type": "display_data"
    },
    {
     "name": "stderr",
     "output_type": "stream",
     "text": [
      "New names:\n",
      "* `` -> ...5\n",
      "* `` -> ...6\n",
      "* `` -> ...7\n",
      "* `` -> ...8\n",
      "* `` -> ...9\n",
      "* ...\n",
      "\n"
     ]
    },
    {
     "data": {
      "text/html": [
       "<table class=\"dataframe\">\n",
       "<caption>A tibble: 3 × 20</caption>\n",
       "<thead>\n",
       "\t<tr><th scope=col>sex</th><th scope=col>Total</th><th scope=col>0-</th><th scope=col>5-</th><th scope=col>10-</th><th scope=col>15-</th><th scope=col>20-</th><th scope=col>25-</th><th scope=col>30-</th><th scope=col>35-</th><th scope=col>40-</th><th scope=col>45-</th><th scope=col>50-</th><th scope=col>55-</th><th scope=col>60-</th><th scope=col>65-</th><th scope=col>70-</th><th scope=col>75-</th><th scope=col>80-</th><th scope=col>85+</th></tr>\n",
       "\t<tr><th scope=col>&lt;chr&gt;</th><th scope=col>&lt;chr&gt;</th><th scope=col>&lt;chr&gt;</th><th scope=col>&lt;chr&gt;</th><th scope=col>&lt;chr&gt;</th><th scope=col>&lt;chr&gt;</th><th scope=col>&lt;chr&gt;</th><th scope=col>&lt;chr&gt;</th><th scope=col>&lt;chr&gt;</th><th scope=col>&lt;chr&gt;</th><th scope=col>&lt;chr&gt;</th><th scope=col>&lt;chr&gt;</th><th scope=col>&lt;chr&gt;</th><th scope=col>&lt;chr&gt;</th><th scope=col>&lt;chr&gt;</th><th scope=col>&lt;chr&gt;</th><th scope=col>&lt;chr&gt;</th><th scope=col>&lt;chr&gt;</th><th scope=col>&lt;chr&gt;</th><th scope=col>&lt;chr&gt;</th></tr>\n",
       "</thead>\n",
       "<tbody>\n",
       "\t<tr><td>Total </td><td>158158</td><td>1415</td><td>6764</td><td>14041</td><td>20401</td><td>16614</td><td>14168</td><td>12932</td><td>12345</td><td>13133</td><td>11307</td><td>9707</td><td>6760</td><td>4636</td><td>3434</td><td>2817</td><td>2559</td><td>2417</td><td>2708</td></tr>\n",
       "\t<tr><td>Male  </td><td>83267 </td><td>920 </td><td>4730</td><td>7135 </td><td>10001</td><td>9345 </td><td>7750 </td><td>6855 </td><td>6651 </td><td>7071 </td><td>6088 </td><td>5071</td><td>3507</td><td>2308</td><td>1546</td><td>1247</td><td>1091</td><td>961 </td><td>990 </td></tr>\n",
       "\t<tr><td>Female</td><td>74891 </td><td>495 </td><td>2034</td><td>6906 </td><td>10400</td><td>7269 </td><td>6418 </td><td>6077 </td><td>5694 </td><td>6062 </td><td>5219 </td><td>4636</td><td>3253</td><td>2328</td><td>1888</td><td>1570</td><td>1468</td><td>1456</td><td>1718</td></tr>\n",
       "</tbody>\n",
       "</table>\n"
      ],
      "text/latex": [
       "A tibble: 3 × 20\n",
       "\\begin{tabular}{llllllllllllllllllll}\n",
       " sex & Total & 0- & 5- & 10- & 15- & 20- & 25- & 30- & 35- & 40- & 45- & 50- & 55- & 60- & 65- & 70- & 75- & 80- & 85+\\\\\n",
       " <chr> & <chr> & <chr> & <chr> & <chr> & <chr> & <chr> & <chr> & <chr> & <chr> & <chr> & <chr> & <chr> & <chr> & <chr> & <chr> & <chr> & <chr> & <chr> & <chr>\\\\\n",
       "\\hline\n",
       "\t Total  & 158158 & 1415 & 6764 & 14041 & 20401 & 16614 & 14168 & 12932 & 12345 & 13133 & 11307 & 9707 & 6760 & 4636 & 3434 & 2817 & 2559 & 2417 & 2708\\\\\n",
       "\t Male   & 83267  & 920  & 4730 & 7135  & 10001 & 9345  & 7750  & 6855  & 6651  & 7071  & 6088  & 5071 & 3507 & 2308 & 1546 & 1247 & 1091 & 961  & 990 \\\\\n",
       "\t Female & 74891  & 495  & 2034 & 6906  & 10400 & 7269  & 6418  & 6077  & 5694  & 6062  & 5219  & 4636 & 3253 & 2328 & 1888 & 1570 & 1468 & 1456 & 1718\\\\\n",
       "\\end{tabular}\n"
      ],
      "text/markdown": [
       "\n",
       "A tibble: 3 × 20\n",
       "\n",
       "| sex &lt;chr&gt; | Total &lt;chr&gt; | 0- &lt;chr&gt; | 5- &lt;chr&gt; | 10- &lt;chr&gt; | 15- &lt;chr&gt; | 20- &lt;chr&gt; | 25- &lt;chr&gt; | 30- &lt;chr&gt; | 35- &lt;chr&gt; | 40- &lt;chr&gt; | 45- &lt;chr&gt; | 50- &lt;chr&gt; | 55- &lt;chr&gt; | 60- &lt;chr&gt; | 65- &lt;chr&gt; | 70- &lt;chr&gt; | 75- &lt;chr&gt; | 80- &lt;chr&gt; | 85+ &lt;chr&gt; |\n",
       "|---|---|---|---|---|---|---|---|---|---|---|---|---|---|---|---|---|---|---|---|\n",
       "| Total  | 158158 | 1415 | 6764 | 14041 | 20401 | 16614 | 14168 | 12932 | 12345 | 13133 | 11307 | 9707 | 6760 | 4636 | 3434 | 2817 | 2559 | 2417 | 2708 |\n",
       "| Male   | 83267  | 920  | 4730 | 7135  | 10001 | 9345  | 7750  | 6855  | 6651  | 7071  | 6088  | 5071 | 3507 | 2308 | 1546 | 1247 | 1091 | 961  | 990  |\n",
       "| Female | 74891  | 495  | 2034 | 6906  | 10400 | 7269  | 6418  | 6077  | 5694  | 6062  | 5219  | 4636 | 3253 | 2328 | 1888 | 1570 | 1468 | 1456 | 1718 |\n",
       "\n"
      ],
      "text/plain": [
       "  sex    Total  0-   5-   10-   15-   20-   25-   30-   35-   40-   45-   50- \n",
       "1 Total  158158 1415 6764 14041 20401 16614 14168 12932 12345 13133 11307 9707\n",
       "2 Male   83267  920  4730 7135  10001 9345  7750  6855  6651  7071  6088  5071\n",
       "3 Female 74891  495  2034 6906  10400 7269  6418  6077  5694  6062  5219  4636\n",
       "  55-  60-  65-  70-  75-  80-  85+ \n",
       "1 6760 4636 3434 2817 2559 2417 2708\n",
       "2 3507 2308 1546 1247 1091 961  990 \n",
       "3 3253 2328 1888 1570 1468 1456 1718"
      ]
     },
     "metadata": {},
     "output_type": "display_data"
    }
   ],
   "source": [
    "#two different way get first table of total group data\n",
    "Ethnic_group_total_df <- file_name[1] %>% read_excel(sheet = \"table1&2\", range = \"B5:U7\", col_names = add_sex_totl_age_group_col_names) #range = cell_rows(3:19), \n",
    "Ethnic_group_total_df  #get from part of xlsx\n",
    "\n",
    "all_data <- file_name[1] %>% read_excel(sheet = \"table1&2\", skip=1)\n",
    "df_total_first_table <- all_data[2:4,2:21]\n",
    "colnames(df_total_first_table) <- add_sex_totl_age_group_col_names  #get frome whole table  which i think it can be uesd for perstentation show different way get data and compare somth like that\n",
    "df_total_first_table"
   ]
  },
  {
   "cell_type": "code",
   "execution_count": 94,
   "id": "d6832c62-e14b-40ba-8e40-fc885139b9b8",
   "metadata": {},
   "outputs": [
    {
     "data": {
      "text/html": [
       "<table class=\"dataframe\">\n",
       "<caption>A tibble: 3 × 20</caption>\n",
       "<thead>\n",
       "\t<tr><th scope=col>sex</th><th scope=col>Total</th><th scope=col>0-</th><th scope=col>5-</th><th scope=col>10-</th><th scope=col>15-</th><th scope=col>20-</th><th scope=col>25-</th><th scope=col>30-</th><th scope=col>35-</th><th scope=col>40-</th><th scope=col>45-</th><th scope=col>50-</th><th scope=col>55-</th><th scope=col>60-</th><th scope=col>65-</th><th scope=col>70-</th><th scope=col>75-</th><th scope=col>80-</th><th scope=col>85+</th></tr>\n",
       "\t<tr><th scope=col>&lt;chr&gt;</th><th scope=col>&lt;chr&gt;</th><th scope=col>&lt;chr&gt;</th><th scope=col>&lt;chr&gt;</th><th scope=col>&lt;chr&gt;</th><th scope=col>&lt;chr&gt;</th><th scope=col>&lt;chr&gt;</th><th scope=col>&lt;chr&gt;</th><th scope=col>&lt;chr&gt;</th><th scope=col>&lt;chr&gt;</th><th scope=col>&lt;chr&gt;</th><th scope=col>&lt;chr&gt;</th><th scope=col>&lt;chr&gt;</th><th scope=col>&lt;chr&gt;</th><th scope=col>&lt;chr&gt;</th><th scope=col>&lt;chr&gt;</th><th scope=col>&lt;chr&gt;</th><th scope=col>&lt;chr&gt;</th><th scope=col>&lt;chr&gt;</th><th scope=col>&lt;chr&gt;</th></tr>\n",
       "</thead>\n",
       "<tbody>\n",
       "\t<tr><td>Total </td><td>102644</td><td>813</td><td>4488</td><td>8107</td><td>12405</td><td>9522</td><td>7978</td><td>7602</td><td>7594</td><td>8470</td><td>7584</td><td>6897</td><td>5140</td><td>3734</td><td>2909</td><td>2400</td><td>2224</td><td>2199</td><td>2578</td></tr>\n",
       "\t<tr><td>Male  </td><td>52083 </td><td>528</td><td>3081</td><td>4053</td><td>5536 </td><td>5094</td><td>4180</td><td>3807</td><td>3958</td><td>4491</td><td>4035</td><td>3631</td><td>2705</td><td>1853</td><td>1301</td><td>1072</td><td>940 </td><td>875 </td><td>943 </td></tr>\n",
       "\t<tr><td>Female</td><td>50561 </td><td>285</td><td>1407</td><td>4054</td><td>6869 </td><td>4428</td><td>3798</td><td>3795</td><td>3636</td><td>3979</td><td>3549</td><td>3266</td><td>2435</td><td>1881</td><td>1608</td><td>1328</td><td>1284</td><td>1324</td><td>1635</td></tr>\n",
       "</tbody>\n",
       "</table>\n"
      ],
      "text/latex": [
       "A tibble: 3 × 20\n",
       "\\begin{tabular}{llllllllllllllllllll}\n",
       " sex & Total & 0- & 5- & 10- & 15- & 20- & 25- & 30- & 35- & 40- & 45- & 50- & 55- & 60- & 65- & 70- & 75- & 80- & 85+\\\\\n",
       " <chr> & <chr> & <chr> & <chr> & <chr> & <chr> & <chr> & <chr> & <chr> & <chr> & <chr> & <chr> & <chr> & <chr> & <chr> & <chr> & <chr> & <chr> & <chr> & <chr>\\\\\n",
       "\\hline\n",
       "\t Total  & 102644 & 813 & 4488 & 8107 & 12405 & 9522 & 7978 & 7602 & 7594 & 8470 & 7584 & 6897 & 5140 & 3734 & 2909 & 2400 & 2224 & 2199 & 2578\\\\\n",
       "\t Male   & 52083  & 528 & 3081 & 4053 & 5536  & 5094 & 4180 & 3807 & 3958 & 4491 & 4035 & 3631 & 2705 & 1853 & 1301 & 1072 & 940  & 875  & 943 \\\\\n",
       "\t Female & 50561  & 285 & 1407 & 4054 & 6869  & 4428 & 3798 & 3795 & 3636 & 3979 & 3549 & 3266 & 2435 & 1881 & 1608 & 1328 & 1284 & 1324 & 1635\\\\\n",
       "\\end{tabular}\n"
      ],
      "text/markdown": [
       "\n",
       "A tibble: 3 × 20\n",
       "\n",
       "| sex &lt;chr&gt; | Total &lt;chr&gt; | 0- &lt;chr&gt; | 5- &lt;chr&gt; | 10- &lt;chr&gt; | 15- &lt;chr&gt; | 20- &lt;chr&gt; | 25- &lt;chr&gt; | 30- &lt;chr&gt; | 35- &lt;chr&gt; | 40- &lt;chr&gt; | 45- &lt;chr&gt; | 50- &lt;chr&gt; | 55- &lt;chr&gt; | 60- &lt;chr&gt; | 65- &lt;chr&gt; | 70- &lt;chr&gt; | 75- &lt;chr&gt; | 80- &lt;chr&gt; | 85+ &lt;chr&gt; |\n",
       "|---|---|---|---|---|---|---|---|---|---|---|---|---|---|---|---|---|---|---|---|\n",
       "| Total  | 102644 | 813 | 4488 | 8107 | 12405 | 9522 | 7978 | 7602 | 7594 | 8470 | 7584 | 6897 | 5140 | 3734 | 2909 | 2400 | 2224 | 2199 | 2578 |\n",
       "| Male   | 52083  | 528 | 3081 | 4053 | 5536  | 5094 | 4180 | 3807 | 3958 | 4491 | 4035 | 3631 | 2705 | 1853 | 1301 | 1072 | 940  | 875  | 943  |\n",
       "| Female | 50561  | 285 | 1407 | 4054 | 6869  | 4428 | 3798 | 3795 | 3636 | 3979 | 3549 | 3266 | 2435 | 1881 | 1608 | 1328 | 1284 | 1324 | 1635 |\n",
       "\n"
      ],
      "text/plain": [
       "  sex    Total  0-  5-   10-  15-   20-  25-  30-  35-  40-  45-  50-  55- \n",
       "1 Total  102644 813 4488 8107 12405 9522 7978 7602 7594 8470 7584 6897 5140\n",
       "2 Male   52083  528 3081 4053 5536  5094 4180 3807 3958 4491 4035 3631 2705\n",
       "3 Female 50561  285 1407 4054 6869  4428 3798 3795 3636 3979 3549 3266 2435\n",
       "  60-  65-  70-  75-  80-  85+ \n",
       "1 3734 2909 2400 2224 2199 2578\n",
       "2 1853 1301 1072 940  875  943 \n",
       "3 1881 1608 1328 1284 1324 1635"
      ]
     },
     "metadata": {},
     "output_type": "display_data"
    }
   ],
   "source": [
    "#first table, maori df\n",
    "df_maori_first_table <- all_data[5:7,2:21]\n",
    "colnames(df_maori_first_table) <- add_sex_totl_age_group_col_names \n",
    "#first table, Pacific df\n",
    "df_Pacific_first_table <- all_data[8:10,2:21]\n",
    "colnames(df_Pacific_first_table) <- add_sex_totl_age_group_col_names \n",
    "#first table, Asian df\n",
    "df_Asian_first_table <- all_data[11:13,2:21]\n",
    "colnames(df_Asian_first_table) <- add_sex_totl_age_group_col_names \n",
    "#first table, other df\n",
    "df_other_first_table <- all_data[14:16,2:21]\n",
    "colnames(df_other_first_table) <- add_sex_totl_age_group_col_names \n",
    "\n",
    "# df_Pacific_first_table\n",
    "# df_maori_first_table\n",
    "# df_Asian_first_table\n",
    "# df_other_first_table"
   ]
  },
  {
   "cell_type": "code",
   "execution_count": 95,
   "id": "3d0516e2-b4ce-4d10-9a43-f3dffc0be151",
   "metadata": {},
   "outputs": [],
   "source": [
    "#table name for rate df\n",
    "add_sex_rate_age_group_col_names <- c('sex', \"Crude_rate\", age_group_col_names, 'ASR')"
   ]
  },
  {
   "cell_type": "code",
   "execution_count": 97,
   "id": "38b33284-1ca0-4f1a-84ae-08e805f458f9",
   "metadata": {},
   "outputs": [],
   "source": [
    "#second table tolal df\n",
    "df_other_second_table <- all_data[24:26,2:22]\n",
    "colnames(df_other_second_table) <- add_sex_rate_age_group_col_names \n",
    "\n",
    "#second table, maori df\n",
    "df_maori_second_table <- all_data[27:29,2:22]\n",
    "colnames(df_maori_second_table) <- add_sex_rate_age_group_col_names \n",
    "#second table, Pacific df\n",
    "df_Pacific_second_table <- all_data[30:32,2:22]\n",
    "colnames(df_Pacific_second_table) <- add_sex_rate_age_group_col_names \n",
    "#second table, Asian df\n",
    "df_Asian_second_table <- all_data[33:35,2:22]\n",
    "colnames(df_Asian_second_table) <- add_sex_rate_age_group_col_names \n",
    "#second table, other df\n",
    "df_other_second_table <- all_data[36:38,2:22]\n",
    "colnames(df_other_second_table) <- add_sex_rate_age_group_col_names \n",
    "\n",
    "# df_other_second_table\n",
    "# df_maori_second_table\n",
    "# df_Pacific_second_table\n",
    "# df_Asian_second_table\n",
    "# df_other_second_table"
   ]
  },
  {
   "cell_type": "code",
   "execution_count": null,
   "id": "b8a14db3-fdc9-4257-9e0e-83da001e8f15",
   "metadata": {},
   "outputs": [],
   "source": [
    "\n",
    "\n"
   ]
  },
  {
   "cell_type": "code",
   "execution_count": null,
   "id": "b366b71e-6f6c-423f-b085-a14951817e44",
   "metadata": {},
   "outputs": [],
   "source": []
  }
 ],
 "metadata": {
  "kernelspec": {
   "display_name": "R",
   "language": "R",
   "name": "ir"
  },
  "language_info": {
   "codemirror_mode": "r",
   "file_extension": ".r",
   "mimetype": "text/x-r-source",
   "name": "R",
   "pygments_lexer": "r",
   "version": "4.1.1"
  }
 },
 "nbformat": 4,
 "nbformat_minor": 5
}
