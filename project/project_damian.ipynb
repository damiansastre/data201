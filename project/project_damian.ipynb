{
 "cells": [
  {
   "cell_type": "code",
   "execution_count": 4,
   "id": "a454793c-68c1-4f3b-9880-a9ba737911da",
   "metadata": {},
   "outputs": [
    {
     "name": "stderr",
     "output_type": "stream",
     "text": [
      "── \u001b[1mAttaching packages\u001b[22m ─────────────────────────────────────────────────────── tidyverse 1.3.1 ──\n",
      "\n",
      "\u001b[32m✔\u001b[39m \u001b[34mggplot2\u001b[39m 3.3.5     \u001b[32m✔\u001b[39m \u001b[34mpurrr  \u001b[39m 0.3.4\n",
      "\u001b[32m✔\u001b[39m \u001b[34mtibble \u001b[39m 3.1.3     \u001b[32m✔\u001b[39m \u001b[34mdplyr  \u001b[39m 1.0.7\n",
      "\u001b[32m✔\u001b[39m \u001b[34mtidyr  \u001b[39m 1.1.3     \u001b[32m✔\u001b[39m \u001b[34mstringr\u001b[39m 1.4.0\n",
      "\u001b[32m✔\u001b[39m \u001b[34mreadr  \u001b[39m 1.4.0     \u001b[32m✔\u001b[39m \u001b[34mforcats\u001b[39m 0.5.1\n",
      "\n",
      "── \u001b[1mConflicts\u001b[22m ────────────────────────────────────────────────────────── tidyverse_conflicts() ──\n",
      "\u001b[31m✖\u001b[39m \u001b[34mdplyr\u001b[39m::\u001b[32mfilter()\u001b[39m masks \u001b[34mstats\u001b[39m::filter()\n",
      "\u001b[31m✖\u001b[39m \u001b[34mdplyr\u001b[39m::\u001b[32mlag()\u001b[39m    masks \u001b[34mstats\u001b[39m::lag()\n",
      "\n",
      "\n",
      "Attaching package: ‘rvest’\n",
      "\n",
      "\n",
      "The following object is masked from ‘package:readr’:\n",
      "\n",
      "    guess_encoding\n",
      "\n",
      "\n"
     ]
    }
   ],
   "source": [
    "#install.packages(\"readxl\")\n",
    "library(tidyverse)\n",
    "library(rvest)\n",
    "library(readxl)"
   ]
  },
  {
   "cell_type": "code",
   "execution_count": 121,
   "id": "c1ccd06c-aa86-40f6-bdc9-a06a8f98eb3d",
   "metadata": {},
   "outputs": [
    {
     "data": {
      "text/html": [
       "<table class=\"dataframe\">\n",
       "<caption>A data.frame: 7 × 4</caption>\n",
       "<thead>\n",
       "\t<tr><th scope=col>year</th><th scope=col>file_name</th><th scope=col>url</th><th scope=col>separator</th></tr>\n",
       "\t<tr><th scope=col>&lt;dbl&gt;</th><th scope=col>&lt;chr&gt;</th><th scope=col>&lt;chr&gt;</th><th scope=col>&lt;chr&gt;</th></tr>\n",
       "</thead>\n",
       "<tbody>\n",
       "\t<tr><td>2015</td><td>mental_health2014.xlsx</td><td>https://www.health.govt.nz//publication/mental-health-and-addiction-service-use-2019-20-tables</td><td>,</td></tr>\n",
       "\t<tr><td>2016</td><td>mental_health2015.xlsx</td><td>https://www.health.govt.nz//publication/mental-health-and-addiction-service-use-2018-19-tables</td><td>,</td></tr>\n",
       "\t<tr><td>2017</td><td>mental_health2016.xlsx</td><td>https://www.health.govt.nz//publication/mental-health-and-addiction-service-use-2017-18-tables</td><td>,</td></tr>\n",
       "\t<tr><td>2018</td><td>mental_health2017.xlsx</td><td>https://www.health.govt.nz//publication/mental-health-and-addiction-service-use-2016-17-tables</td><td>,</td></tr>\n",
       "\t<tr><td>2019</td><td>mental_health2018.xlsx</td><td>https://www.health.govt.nz//publication/mental-health-and-addiction-service-use-2016-17-tables</td><td>,</td></tr>\n",
       "\t<tr><td>2020</td><td>mental_health2019.xlsx</td><td><span style=white-space:pre-wrap>https://www.health.govt.nz//publication/mental-health-and-addiction-service-use-2014-15       </span></td><td>&amp;</td></tr>\n",
       "\t<tr><td>2021</td><td>mental_health2020.xlsx</td><td><span style=white-space:pre-wrap>https://www.health.govt.nz//publication/mental-health-and-addiction-service-use-2013-14       </span></td><td>&amp;</td></tr>\n",
       "</tbody>\n",
       "</table>\n"
      ],
      "text/latex": [
       "A data.frame: 7 × 4\n",
       "\\begin{tabular}{llll}\n",
       " year & file\\_name & url & separator\\\\\n",
       " <dbl> & <chr> & <chr> & <chr>\\\\\n",
       "\\hline\n",
       "\t 2015 & mental\\_health2014.xlsx & https://www.health.govt.nz//publication/mental-health-and-addiction-service-use-2019-20-tables & ,\\\\\n",
       "\t 2016 & mental\\_health2015.xlsx & https://www.health.govt.nz//publication/mental-health-and-addiction-service-use-2018-19-tables & ,\\\\\n",
       "\t 2017 & mental\\_health2016.xlsx & https://www.health.govt.nz//publication/mental-health-and-addiction-service-use-2017-18-tables & ,\\\\\n",
       "\t 2018 & mental\\_health2017.xlsx & https://www.health.govt.nz//publication/mental-health-and-addiction-service-use-2016-17-tables & ,\\\\\n",
       "\t 2019 & mental\\_health2018.xlsx & https://www.health.govt.nz//publication/mental-health-and-addiction-service-use-2016-17-tables & ,\\\\\n",
       "\t 2020 & mental\\_health2019.xlsx & https://www.health.govt.nz//publication/mental-health-and-addiction-service-use-2014-15        & \\&\\\\\n",
       "\t 2021 & mental\\_health2020.xlsx & https://www.health.govt.nz//publication/mental-health-and-addiction-service-use-2013-14        & \\&\\\\\n",
       "\\end{tabular}\n"
      ],
      "text/markdown": [
       "\n",
       "A data.frame: 7 × 4\n",
       "\n",
       "| year &lt;dbl&gt; | file_name &lt;chr&gt; | url &lt;chr&gt; | separator &lt;chr&gt; |\n",
       "|---|---|---|---|\n",
       "| 2015 | mental_health2014.xlsx | https://www.health.govt.nz//publication/mental-health-and-addiction-service-use-2019-20-tables | , |\n",
       "| 2016 | mental_health2015.xlsx | https://www.health.govt.nz//publication/mental-health-and-addiction-service-use-2018-19-tables | , |\n",
       "| 2017 | mental_health2016.xlsx | https://www.health.govt.nz//publication/mental-health-and-addiction-service-use-2017-18-tables | , |\n",
       "| 2018 | mental_health2017.xlsx | https://www.health.govt.nz//publication/mental-health-and-addiction-service-use-2016-17-tables | , |\n",
       "| 2019 | mental_health2018.xlsx | https://www.health.govt.nz//publication/mental-health-and-addiction-service-use-2016-17-tables | , |\n",
       "| 2020 | mental_health2019.xlsx | https://www.health.govt.nz//publication/mental-health-and-addiction-service-use-2014-15        | &amp; |\n",
       "| 2021 | mental_health2020.xlsx | https://www.health.govt.nz//publication/mental-health-and-addiction-service-use-2013-14        | &amp; |\n",
       "\n"
      ],
      "text/plain": [
       "  year file_name             \n",
       "1 2015 mental_health2014.xlsx\n",
       "2 2016 mental_health2015.xlsx\n",
       "3 2017 mental_health2016.xlsx\n",
       "4 2018 mental_health2017.xlsx\n",
       "5 2019 mental_health2018.xlsx\n",
       "6 2020 mental_health2019.xlsx\n",
       "7 2021 mental_health2020.xlsx\n",
       "  url                                                                                           \n",
       "1 https://www.health.govt.nz//publication/mental-health-and-addiction-service-use-2019-20-tables\n",
       "2 https://www.health.govt.nz//publication/mental-health-and-addiction-service-use-2018-19-tables\n",
       "3 https://www.health.govt.nz//publication/mental-health-and-addiction-service-use-2017-18-tables\n",
       "4 https://www.health.govt.nz//publication/mental-health-and-addiction-service-use-2016-17-tables\n",
       "5 https://www.health.govt.nz//publication/mental-health-and-addiction-service-use-2016-17-tables\n",
       "6 https://www.health.govt.nz//publication/mental-health-and-addiction-service-use-2014-15       \n",
       "7 https://www.health.govt.nz//publication/mental-health-and-addiction-service-use-2013-14       \n",
       "  separator\n",
       "1 ,        \n",
       "2 ,        \n",
       "3 ,        \n",
       "4 ,        \n",
       "5 ,        \n",
       "6 &        \n",
       "7 &        "
      ]
     },
     "metadata": {},
     "output_type": "display_data"
    }
   ],
   "source": [
    "#first we get all xlsx file links from url\n",
    "mental_health_data_urls_all_years <- 'https://www.health.govt.nz/our-work/mental-health-and-addiction/mental-health-and-addiction-monitoring-reporting-and-data' %>% \n",
    "                                        read_html() %>%\n",
    "                                        html_element('#node-12245 > div > div > div > ul:nth-child(19)') %>%\n",
    "                                        html_elements(\"a\") %>%\n",
    "                                        html_attrs() %>% \n",
    "                                        str_c('https://www.health.govt.nz/', .)\n",
    "\n",
    "#function is to download xlsx from health url \n",
    "download_xlsx_file <- function(heath_url, file_name){\n",
    "                        download_ur <- heath_url %>% \n",
    "                            read_html() %>%\n",
    "                            html_element(\"#block-system-main > div > div:nth-child(2) > div.panel-panel.right.col-xs-12.col-sm-12.col-md-3.col-lg-3 > div.panel-pane.pane-views.pane-file-attachments-revisioning.pane-downloads-right.standard-block.even.hidden-xs.hidden-sm > div > div > div > div > ul > li > span > a\") %>% \n",
    "                            html_attr(\"href\") \n",
    "                        download.file(url = download_ur, destfile = file_name)\n",
    "}\n",
    "\n",
    "\n",
    "build_sheet_name <- function(str1, str2, separator){\n",
    "    data <- paste(str1, str2, sep=separator)\n",
    "    return(data)\n",
    "}\n",
    "\n",
    "get_sheet_separator <- function(file_name){\n",
    "    sheets <- file_name %>% excel_sheets()\n",
    "    if ('table1,2' %in% sheets){\n",
    "        separator <- ','\n",
    "    }else{\n",
    "        separator <- '&'\n",
    "    }\n",
    "}\n",
    "\n",
    "\n",
    "#iteral through every year from 2014 to 2019\n",
    "file_metadata_df <- data.frame(year=double(),\n",
    "                               file_name=character(),\n",
    "                               url=character(),\n",
    "                               separator=character())\n",
    "\n",
    "start_year = 2014\n",
    "\n",
    "for (url_yearly_health in mental_health_data_urls_all_years){\n",
    "    file_name = str_c('mental_health', start_year) %>% \n",
    "                    str_c('.xlsx')\n",
    "    start_year = start_year + 1\n",
    "    download_xlsx_file(url_yearly_health, file_name)\n",
    "    separator <- get_sheet_separator(file_name)\n",
    "    file_metadata_df <- file_metadata_df %>% add_row(year=start_year,\n",
    "                                                 file_name=file_name,\n",
    "                                                 url=url_yearly_health,\n",
    "                                                 separator=separator)\n",
    "}\n",
    "file_metadata_df\n"
   ]
  },
  {
   "cell_type": "code",
   "execution_count": 116,
   "id": "c98b0871-8181-4950-958c-a04050b184a7",
   "metadata": {},
   "outputs": [
    {
     "data": {
      "text/html": [
       "<table class=\"dataframe\">\n",
       "<caption>A tibble: 4 × 2</caption>\n",
       "<thead>\n",
       "\t<tr><th scope=col>ethnic_group</th><th scope=col>range</th></tr>\n",
       "\t<tr><th scope=col>&lt;chr&gt;</th><th scope=col>&lt;chr&gt;</th></tr>\n",
       "</thead>\n",
       "<tbody>\n",
       "\t<tr><td>Maori  </td><td>B9:U10 </td></tr>\n",
       "\t<tr><td>Pacific</td><td>B12:U13</td></tr>\n",
       "\t<tr><td>Asian  </td><td>B15:U16</td></tr>\n",
       "\t<tr><td>Other  </td><td>B18:U19</td></tr>\n",
       "</tbody>\n",
       "</table>\n"
      ],
      "text/latex": [
       "A tibble: 4 × 2\n",
       "\\begin{tabular}{ll}\n",
       " ethnic\\_group & range\\\\\n",
       " <chr> & <chr>\\\\\n",
       "\\hline\n",
       "\t Maori   & B9:U10 \\\\\n",
       "\t Pacific & B12:U13\\\\\n",
       "\t Asian   & B15:U16\\\\\n",
       "\t Other   & B18:U19\\\\\n",
       "\\end{tabular}\n"
      ],
      "text/markdown": [
       "\n",
       "A tibble: 4 × 2\n",
       "\n",
       "| ethnic_group &lt;chr&gt; | range &lt;chr&gt; |\n",
       "|---|---|\n",
       "| Maori   | B9:U10  |\n",
       "| Pacific | B12:U13 |\n",
       "| Asian   | B15:U16 |\n",
       "| Other   | B18:U19 |\n",
       "\n"
      ],
      "text/plain": [
       "  ethnic_group range  \n",
       "1 Maori        B9:U10 \n",
       "2 Pacific      B12:U13\n",
       "3 Asian        B15:U16\n",
       "4 Other        B18:U19"
      ]
     },
     "metadata": {},
     "output_type": "display_data"
    }
   ],
   "source": [
    "#get all col names for table use after\n",
    "#get metadata from one of the files.\n",
    "first_file = file_metadata_df[1,]\n",
    "\n",
    "age_group_col_names <-  first_file$file_name %>% read_excel(sheet = build_sheet_name('table1', '2', first_file$separator),\n",
    "                                                            range = cell_rows(4:4)) %>% colnames()\n",
    "add_sex_totl_age_group_col_names <- c('gender', \"Total\", age_group_col_names)\n",
    "\n",
    "\n",
    "table_1_2_positions <- tibble(ethnic_group=c('Maori', 'Pacific', 'Asian', 'Other'),\n",
    "                              range=c('B9:U10', 'B12:U13', 'B15:U16', 'B18:U19'))\n",
    "\n",
    "\n",
    "\n",
    "table_1_2_positions"
   ]
  },
  {
   "cell_type": "code",
   "execution_count": 156,
   "id": "51b0ba93-101b-442c-ad29-cd3d840efdb1",
   "metadata": {},
   "outputs": [],
   "source": [
    "#two different way get first table of total group data\n",
    "\n",
    "clients_by_age_ethnic_group_df <- data.frame(year=double(),\n",
    "                                         gender=character(), \n",
    "                                         ethnic_group=character(),\n",
    "                                         age_group=character(),\n",
    "                                         amount=integer() \n",
    "                                         ) \n",
    "\n",
    "\n",
    "get_clients_by_gender_ethnic_group <- function(file_metadata, columns){\n",
    "\n",
    "    clients_by_age_ethnic_group <- data.frame(year=double(),\n",
    "                                         gender=character(), \n",
    "                                         ethnic_group=character(),\n",
    "                                         age_group=character(),\n",
    "                                         amount=integer()) \n",
    "    \n",
    "    for (i in 1:nrow(table_1_2_positions)) {\n",
    "        row <- table_1_2_positions[i,]\n",
    "        ethnic_group_df <- file_metadata$file_name %>% read_excel(sheet=build_sheet_name(\"table1\", \"2\", file_metadata$separator),\n",
    "                                                       range = row$range,\n",
    "                                                       col_names = add_sex_totl_age_group_col_names) #range = cell_rows(3:19), \n",
    "        ethnic_group_df <- ethnic_group_df %>% add_column(ethnic_group=row$ethnic_group, year=file_metadata$year)\n",
    "        ethnic_group_df <- ethnic_group_df %>% select(-Total)\n",
    "        long_col_name <- ethnic_group_df %>% select(ends_with(\"-\"), ends_with('+')) %>% names()\n",
    "        clients_by_age_ethnic_group <- clients_by_age_ethnic_group %>% \n",
    "                                       add_row(ethnic_group_df %>% \n",
    "                                       gather(age_group, amount, long_col_name, factor_key=TRUE))\n",
    "    }  \n",
    "    return(clients_by_age_ethnic_group)\n",
    "}\n",
    "\n",
    "get_all_year_clients_by_gender_ethnic_group <- function(){\n",
    "    for (i in 1:nrow(file_metadata_df)){\n",
    "        row <- file_metadata_df[i,]\n",
    "        clients_by_age_ethnic_group_df <- clients_by_age_ethnic_group_df %>% add_row(get_clients_by_gender_ethnic_group(row, add_sex_totl_age_group_col_names))\n",
    "    }\n",
    "    return(clients_by_age_ethnic_group_df) \n",
    "    \n",
    "}\n"
   ]
  },
  {
   "cell_type": "code",
   "execution_count": 157,
   "id": "efc2963b-601a-45ce-8f7f-7ca8f1e7acf6",
   "metadata": {},
   "outputs": [
    {
     "data": {
      "image/png": "[encoded data removed]",
      "text/plain": [
       "plot without title"
      ]
     },
     "metadata": {
      "image/png": {
       "height": 420,
       "width": 420
      }
     },
     "output_type": "display_data"
    }
   ],
   "source": [
    "years <- full_clients_by_gender_ethnic_df %>% select(year) %>% distinct()\n",
    "full_clients_by_gender_ethnic_df %>% filter(gender=='Male') %>%\n",
    "                                     group_by(year, ethnic_group) %>% \n",
    "                                     select(year, ethnic_group, amount) %>%\n",
    "                                     summarise(sum_amount = round(sum(amount)), .groups='drop_last') %>%  # getting the mean amount of users for each user type by hour (droping the last column)\n",
    "                                     ggplot( aes(fill=ethnic_group, y=sum_amount, x=year)) + \n",
    "                                     geom_bar(position=\"stack\", stat=\"identity\") + \n",
    "                                     scale_x_continuous(breaks=years$year)"
   ]
  },
  {
   "cell_type": "code",
   "execution_count": null,
   "id": "b88aa950-31ad-4bf3-be85-f259d603534b",
   "metadata": {},
   "outputs": [],
   "source": [
    "full_clients_by_gender_ethnic_df %>% filter(gender=='Male') %>%\n",
    "                                     group_by(year, ethnic_group) %>% \n",
    "                                     select(year, ethnic_group, amount) %>%\n",
    "                                     summarise(sum_amount = round(sum(amount)), .groups='drop_last') %>%  # getting the mean amount of users for each user type by hour (droping the last column)\n",
    "                                     ggplot( aes(fill=ethnic_group, y=sum_amount, x=year)) + \n",
    "                                     geom_bar(position=\"stack\", stat=\"identity\") + \n",
    "                                     scale_x_continuous(breaks=years$year)"
   ]
  },
  {
   "cell_type": "code",
   "execution_count": 68,
   "id": "d6832c62-e14b-40ba-8e40-fc885139b9b8",
   "metadata": {},
   "outputs": [],
   "source": [
    "#first table, maori df\n",
    "df_maori_first_table <- all_data[5:7,2:21]\n",
    "colnames(df_maori_first_table) <- add_sex_totl_age_group_col_names \n",
    "#first table, Pacific df\n",
    "df_Pacific_first_table <- all_data[8:10,2:21]\n",
    "colnames(df_Pacific_first_table) <- add_sex_totl_age_group_col_names \n",
    "#first table, Asian df\n",
    "df_Asian_first_table <- all_data[11:13,2:21]\n",
    "colnames(df_Asian_first_table) <- add_sex_totl_age_group_col_names \n",
    "#first table, other df\n",
    "df_other_first_table <- all_data[14:16,2:21]\n",
    "colnames(df_other_first_table) <- add_sex_totl_age_group_col_names \n",
    "\n",
    "# df_Pacific_first_table\n",
    "# df_maori_first_table\n",
    "# df_Asian_first_table\n",
    "# df_other_first_table"
   ]
  },
  {
   "cell_type": "code",
   "execution_count": 69,
   "id": "3d0516e2-b4ce-4d10-9a43-f3dffc0be151",
   "metadata": {},
   "outputs": [],
   "source": [
    "#table name for rate df\n",
    "add_sex_rate_age_group_col_names <- c('sex', \"Crude_rate\", age_group_col_names, 'ASR')"
   ]
  },
  {
   "cell_type": "code",
   "execution_count": 70,
   "id": "38b33284-1ca0-4f1a-84ae-08e805f458f9",
   "metadata": {},
   "outputs": [
    {
     "data": {
      "text/html": [
       "<table class=\"dataframe\">\n",
       "<caption>A tibble: 3 × 21</caption>\n",
       "<thead>\n",
       "\t<tr><th scope=col>sex</th><th scope=col>Crude_rate</th><th scope=col>0-</th><th scope=col>5-</th><th scope=col>10-</th><th scope=col>15-</th><th scope=col>20-</th><th scope=col>25-</th><th scope=col>30-</th><th scope=col>35-</th><th scope=col>⋯</th><th scope=col>45-</th><th scope=col>50-</th><th scope=col>55-</th><th scope=col>60-</th><th scope=col>65-</th><th scope=col>70-</th><th scope=col>75-</th><th scope=col>80-</th><th scope=col>85+</th><th scope=col>ASR</th></tr>\n",
       "\t<tr><th scope=col>&lt;chr&gt;</th><th scope=col>&lt;chr&gt;</th><th scope=col>&lt;chr&gt;</th><th scope=col>&lt;chr&gt;</th><th scope=col>&lt;chr&gt;</th><th scope=col>&lt;chr&gt;</th><th scope=col>&lt;chr&gt;</th><th scope=col>&lt;chr&gt;</th><th scope=col>&lt;chr&gt;</th><th scope=col>&lt;chr&gt;</th><th scope=col>⋯</th><th scope=col>&lt;chr&gt;</th><th scope=col>&lt;chr&gt;</th><th scope=col>&lt;chr&gt;</th><th scope=col>&lt;chr&gt;</th><th scope=col>&lt;chr&gt;</th><th scope=col>&lt;chr&gt;</th><th scope=col>&lt;chr&gt;</th><th scope=col>&lt;chr&gt;</th><th scope=col>&lt;chr&gt;</th><th scope=col>&lt;chr&gt;</th></tr>\n",
       "</thead>\n",
       "<tbody>\n",
       "\t<tr><td>Total </td><td>3469.7</td><td>529.79999999999995</td><td>2710  </td><td>4932.2            </td><td>7175.5</td><td>5284.1</td><td>4861.7</td><td>4747.7            </td><td>4390.1000000000004</td><td>⋯</td><td>3481.6</td><td>2987.9</td><td>2446  </td><td>1939.1</td><td>1622.3</td><td>1772.9</td><td>2268.9            </td><td>2953.3</td><td>3540.2</td><td>3795.1</td></tr>\n",
       "\t<tr><td>Male  </td><td>3589.8</td><td>671.8             </td><td>3635  </td><td>4824.3999999999996</td><td>6233.5</td><td>5549  </td><td>5074.7</td><td>4888.8999999999996</td><td>4756.6000000000004</td><td>⋯</td><td>3800.9</td><td>3206.5</td><td>2611  </td><td>1955.7</td><td>1477.6</td><td>1632.9</td><td>2052              </td><td>2654.7</td><td>3558.5</td><td>3926.8</td></tr>\n",
       "\t<tr><td>Female</td><td>3354.1</td><td>380.8             </td><td>1740.3</td><td>5044.8            </td><td>8170.6</td><td>5009  </td><td>4647  </td><td>4614              </td><td>4050.4            </td><td>⋯</td><td>3178.1</td><td>2777.4</td><td>2285.5</td><td>1923.1</td><td>1762  </td><td>1904.8</td><td>2459.3000000000002</td><td>3190.4</td><td>3529.8</td><td>3667.5</td></tr>\n",
       "</tbody>\n",
       "</table>\n"
      ],
      "text/latex": [
       "A tibble: 3 × 21\n",
       "\\begin{tabular}{lllllllllllllllllllll}\n",
       " sex & Crude\\_rate & 0- & 5- & 10- & 15- & 20- & 25- & 30- & 35- & ⋯ & 45- & 50- & 55- & 60- & 65- & 70- & 75- & 80- & 85+ & ASR\\\\\n",
       " <chr> & <chr> & <chr> & <chr> & <chr> & <chr> & <chr> & <chr> & <chr> & <chr> & ⋯ & <chr> & <chr> & <chr> & <chr> & <chr> & <chr> & <chr> & <chr> & <chr> & <chr>\\\\\n",
       "\\hline\n",
       "\t Total  & 3469.7 & 529.79999999999995 & 2710   & 4932.2             & 7175.5 & 5284.1 & 4861.7 & 4747.7             & 4390.1000000000004 & ⋯ & 3481.6 & 2987.9 & 2446   & 1939.1 & 1622.3 & 1772.9 & 2268.9             & 2953.3 & 3540.2 & 3795.1\\\\\n",
       "\t Male   & 3589.8 & 671.8              & 3635   & 4824.3999999999996 & 6233.5 & 5549   & 5074.7 & 4888.8999999999996 & 4756.6000000000004 & ⋯ & 3800.9 & 3206.5 & 2611   & 1955.7 & 1477.6 & 1632.9 & 2052               & 2654.7 & 3558.5 & 3926.8\\\\\n",
       "\t Female & 3354.1 & 380.8              & 1740.3 & 5044.8             & 8170.6 & 5009   & 4647   & 4614               & 4050.4             & ⋯ & 3178.1 & 2777.4 & 2285.5 & 1923.1 & 1762   & 1904.8 & 2459.3000000000002 & 3190.4 & 3529.8 & 3667.5\\\\\n",
       "\\end{tabular}\n"
      ],
      "text/markdown": [
       "\n",
       "A tibble: 3 × 21\n",
       "\n",
       "| sex &lt;chr&gt; | Crude_rate &lt;chr&gt; | 0- &lt;chr&gt; | 5- &lt;chr&gt; | 10- &lt;chr&gt; | 15- &lt;chr&gt; | 20- &lt;chr&gt; | 25- &lt;chr&gt; | 30- &lt;chr&gt; | 35- &lt;chr&gt; | ⋯ ⋯ | 45- &lt;chr&gt; | 50- &lt;chr&gt; | 55- &lt;chr&gt; | 60- &lt;chr&gt; | 65- &lt;chr&gt; | 70- &lt;chr&gt; | 75- &lt;chr&gt; | 80- &lt;chr&gt; | 85+ &lt;chr&gt; | ASR &lt;chr&gt; |\n",
       "|---|---|---|---|---|---|---|---|---|---|---|---|---|---|---|---|---|---|---|---|---|\n",
       "| Total  | 3469.7 | 529.79999999999995 | 2710   | 4932.2             | 7175.5 | 5284.1 | 4861.7 | 4747.7             | 4390.1000000000004 | ⋯ | 3481.6 | 2987.9 | 2446   | 1939.1 | 1622.3 | 1772.9 | 2268.9             | 2953.3 | 3540.2 | 3795.1 |\n",
       "| Male   | 3589.8 | 671.8              | 3635   | 4824.3999999999996 | 6233.5 | 5549   | 5074.7 | 4888.8999999999996 | 4756.6000000000004 | ⋯ | 3800.9 | 3206.5 | 2611   | 1955.7 | 1477.6 | 1632.9 | 2052               | 2654.7 | 3558.5 | 3926.8 |\n",
       "| Female | 3354.1 | 380.8              | 1740.3 | 5044.8             | 8170.6 | 5009   | 4647   | 4614               | 4050.4             | ⋯ | 3178.1 | 2777.4 | 2285.5 | 1923.1 | 1762   | 1904.8 | 2459.3000000000002 | 3190.4 | 3529.8 | 3667.5 |\n",
       "\n"
      ],
      "text/plain": [
       "  sex    Crude_rate 0-                 5-     10-                15-    20-   \n",
       "1 Total  3469.7     529.79999999999995 2710   4932.2             7175.5 5284.1\n",
       "2 Male   3589.8     671.8              3635   4824.3999999999996 6233.5 5549  \n",
       "3 Female 3354.1     380.8              1740.3 5044.8             8170.6 5009  \n",
       "  25-    30-                35-                ⋯ 45-    50-    55-    60-   \n",
       "1 4861.7 4747.7             4390.1000000000004 ⋯ 3481.6 2987.9 2446   1939.1\n",
       "2 5074.7 4888.8999999999996 4756.6000000000004 ⋯ 3800.9 3206.5 2611   1955.7\n",
       "3 4647   4614               4050.4             ⋯ 3178.1 2777.4 2285.5 1923.1\n",
       "  65-    70-    75-                80-    85+    ASR   \n",
       "1 1622.3 1772.9 2268.9             2953.3 3540.2 3795.1\n",
       "2 1477.6 1632.9 2052               2654.7 3558.5 3926.8\n",
       "3 1762   1904.8 2459.3000000000002 3190.4 3529.8 3667.5"
      ]
     },
     "metadata": {},
     "output_type": "display_data"
    }
   ],
   "source": [
    "#second table tolal df\n",
    "df_other_second_table <- all_data[24:26,2:22]\n",
    "colnames(df_other_second_table) <- add_sex_rate_age_group_col_names \n",
    "\n",
    "#second table, maori df\n",
    "df_maori_second_table <- all_data[27:29,2:22]\n",
    "colnames(df_maori_second_table) <- add_sex_rate_age_group_col_names \n",
    "#second table, Pacific df\n",
    "df_Pacific_second_table <- all_data[30:32,2:22]\n",
    "colnames(df_Pacific_second_table) <- add_sex_rate_age_group_col_names \n",
    "#second table, Asian df\n",
    "df_Asian_second_table <- all_data[33:35,2:22]\n",
    "colnames(df_Asian_second_table) <- add_sex_rate_age_group_col_names \n",
    "#second table, other df\n",
    "df_other_second_table <- all_data[36:38,2:22]\n",
    "colnames(df_other_second_table) <- add_sex_rate_age_group_col_names \n",
    "\n",
    " df_other_second_table\n",
    "# df_maori_second_table\n",
    "# df_Pacific_second_table\n",
    "# df_Asian_second_table\n",
    "# df_other_second_table"
   ]
  },
  {
   "cell_type": "code",
   "execution_count": null,
   "id": "b8a14db3-fdc9-4257-9e0e-83da001e8f15",
   "metadata": {},
   "outputs": [],
   "source": [
    "\n",
    "\n"
   ]
  },
  {
   "cell_type": "code",
   "execution_count": null,
   "id": "b366b71e-6f6c-423f-b085-a14951817e44",
   "metadata": {},
   "outputs": [],
   "source": []
  }
 ],
 "metadata": {
  "kernelspec": {
   "display_name": "R",
   "language": "R",
   "name": "ir"
  },
  "language_info": {
   "codemirror_mode": "r",
   "file_extension": ".r",
   "mimetype": "text/x-r-source",
   "name": "R",
   "pygments_lexer": "r",
   "version": "4.1.0"
  }
 },
 "nbformat": 4,
 "nbformat_minor": 5
}
