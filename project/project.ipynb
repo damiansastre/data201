{
 "cells": [
  {
   "cell_type": "code",
   "execution_count": 154,
   "id": "a454793c-68c1-4f3b-9880-a9ba737911da",
   "metadata": {},
   "outputs": [],
   "source": [
    "#install.packages(\"readxl\")\n",
    "library(tidyverse)\n",
    "library(rvest)\n",
    "library(\"readxl\")"
   ]
  },
  {
   "cell_type": "code",
   "execution_count": 156,
   "id": "c1ccd06c-aa86-40f6-bdc9-a06a8f98eb3d",
   "metadata": {},
   "outputs": [],
   "source": [
    "#first we get all xlsx file links from url\n",
    "mental_health_data_urls_all_years <- 'https://www.health.govt.nz/our-work/mental-health-and-addiction/mental-health-and-addiction-monitoring-reporting-and-data' %>% \n",
    "                                        read_html() %>%\n",
    "                                        html_element('#node-12245 > div > div > div > ul:nth-child(19)') %>%\n",
    "                                        html_elements(\"a\") %>%\n",
    "                                        html_attrs() %>% \n",
    "                                        str_c('https://www.health.govt.nz/', .)\n",
    "\n",
    "#function is to download xlsx from health url \n",
    "download_xlsx_file <- function(heath_url, file_name){\n",
    "                        download_ur <- heath_url %>% \n",
    "                            read_html() %>%\n",
    "                            html_element(\"#block-system-main > div > div:nth-child(2) > div.panel-panel.right.col-xs-12.col-sm-12.col-md-3.col-lg-3 > div.panel-pane.pane-views.pane-file-attachments-revisioning.pane-downloads-right.standard-block.even.hidden-xs.hidden-sm > div > div > div > div > ul > li > span > a\") %>% \n",
    "                            html_attr(\"href\") \n",
    "                        download.file(url = download_ur, destfile = file_name)}\n",
    "\n",
    "#iteral through every year from 2014 to 2019\n",
    "start_year = 2014\n",
    "for (url_yearly_health in mental_health_data_urls_all_years){\n",
    "    file_name = str_c('mental_health', start_year) %>% \n",
    "                    str_c('.xlsx')\n",
    "    start_year = start_year + 1\n",
    "    download_xlsx_file(url_yearly_health, file_name)\n",
    "    }"
   ]
  },
  {
   "cell_type": "code",
   "execution_count": null,
   "id": "88922397-e337-409f-a892-1a9eb88c63f7",
   "metadata": {},
   "outputs": [],
   "source": []
  },
  {
   "cell_type": "code",
   "execution_count": null,
   "id": "c98b0871-8181-4950-958c-a04050b184a7",
   "metadata": {},
   "outputs": [],
   "source": []
  },
  {
   "cell_type": "code",
   "execution_count": null,
   "id": "51b0ba93-101b-442c-ad29-cd3d840efdb1",
   "metadata": {},
   "outputs": [],
   "source": []
  },
  {
   "cell_type": "code",
   "execution_count": null,
   "id": "3d0516e2-b4ce-4d10-9a43-f3dffc0be151",
   "metadata": {},
   "outputs": [],
   "source": []
  },
  {
   "cell_type": "code",
   "execution_count": null,
   "id": "38b33284-1ca0-4f1a-84ae-08e805f458f9",
   "metadata": {},
   "outputs": [],
   "source": []
  },
  {
   "cell_type": "code",
   "execution_count": null,
   "id": "b8a14db3-fdc9-4257-9e0e-83da001e8f15",
   "metadata": {},
   "outputs": [],
   "source": []
  }
 ],
 "metadata": {
  "kernelspec": {
   "display_name": "R",
   "language": "R",
   "name": "ir"
  },
  "language_info": {
   "codemirror_mode": "r",
   "file_extension": ".r",
   "mimetype": "text/x-r-source",
   "name": "R",
   "pygments_lexer": "r",
   "version": "4.1.1"
  }
 },
 "nbformat": 4,
 "nbformat_minor": 5
}
