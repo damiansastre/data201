{
 "cells": [
  {
   "cell_type": "markdown",
   "id": "7ce05e8e-a6e2-4473-8c8f-941a5d58de5d",
   "metadata": {},
   "source": [
    "# Group Project\n",
    "Metal Health in NZ\n",
    "\n",
    "mh_online_tables_201920_final.csv\n",
    "\n",
    "https://www.health.govt.nz/nz-health-statistics/health-statistics-and-data-sets/mental-health-data-and-stats\n",
    "\n",
    "https://www.health.govt.nz/publication/mental-health-and-addiction-service-use-2009-10\n",
    "\n",
    "https://www.health.govt.nz/publication/mental-health-and-addiction-service-use-2011-12\n",
    "\n",
    "https://www.health.govt.nz/publication/mental-health-and-addiction-service-use-2012-13\n",
    "\n",
    "\n",
    "https://www.health.govt.nz/publication/mental-health-and-addiction-service-use-2013-14\n",
    "\n",
    "https://www.health.govt.nz/publication/mental-health-and-addiction-service-use-2014-15\n",
    "\n",
    "\n",
    "https://www.health.govt.nz/publication/mental-health-and-addiction-service-use-2015-16\n",
    "\n",
    "\n",
    "https://www.health.govt.nz/publication/mental-health-and-addiction-service-use-2016-17-tables\n",
    "\n",
    "\n",
    "https://www.health.govt.nz/publication/mental-health-and-addiction-service-use-2017-18-tables\n",
    "\n",
    "https://www.health.govt.nz/publication/mental-health-and-addiction-service-use-2018-19-tables\n",
    "\n",
    "https://www.health.govt.nz/publication/mental-health-and-addiction-service-use-2019-20-tables\n",
    "\n",
    "## Tables to analyse.\n",
    "\n",
    "1,2\n",
    "11\n",
    "12\n",
    "    \n",
    "17\n",
    "21\n",
    "22\n"
   ]
  },
  {
   "cell_type": "code",
   "execution_count": null,
   "id": "869d474a-ba48-4a6a-b16a-ae75e59d32ad",
   "metadata": {},
   "outputs": [],
   "source": []
  }
 ],
 "metadata": {
  "kernelspec": {
   "display_name": "R",
   "language": "R",
   "name": "ir"
  },
  "language_info": {
   "codemirror_mode": "r",
   "file_extension": ".r",
   "mimetype": "text/x-r-source",
   "name": "R",
   "pygments_lexer": "r",
   "version": "4.1.0"
  }
 },
 "nbformat": 4,
 "nbformat_minor": 5
}
